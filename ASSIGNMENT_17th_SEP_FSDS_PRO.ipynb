{
 "cells": [
  {
   "cell_type": "markdown",
   "metadata": {},
   "source": [
    "1)python program to print numbers from 1 to 10 using for loop"
   ]
  },
  {
   "cell_type": "code",
   "execution_count": 1,
   "metadata": {},
   "outputs": [
    {
     "name": "stdout",
     "output_type": "stream",
     "text": [
      "1\n",
      "2\n",
      "3\n",
      "4\n",
      "5\n",
      "6\n",
      "7\n",
      "8\n",
      "9\n",
      "10\n"
     ]
    }
   ],
   "source": [
    "for i in range(1,11): #i is a iterable variable contains 1 to 10 numbers,(start,stop,step) 11 is excluded.\n",
    "    print(i)"
   ]
  },
  {
   "cell_type": "markdown",
   "metadata": {},
   "source": [
    "2)difference between for loop and while loop"
   ]
  },
  {
   "cell_type": "markdown",
   "metadata": {},
   "source": [
    "For loop is used to iterate over a sequence of items. While loop is used to repeatedly execute a block of statements while a condition is true.For loop is used when the number of iterations is already known. While loop is used when the number of iterations are unknown."
   ]
  },
  {
   "cell_type": "code",
   "execution_count": 2,
   "metadata": {
    "scrolled": false
   },
   "outputs": [
    {
     "name": "stdout",
     "output_type": "stream",
     "text": [
      "1 2 3 4 5 6 7 8 9 10 11 12 13 14 15 16 17 18 19 \n",
      "pwskills\n"
     ]
    }
   ],
   "source": [
    "#example\n",
    "for i in range(1,20): #finite loop\n",
    "    print(i,end=' ')\n",
    "while(True): #infinite loop\n",
    "    print('\\npwskills')\n",
    "    break   #if we don't use break it will print infinite times"
   ]
  },
  {
   "cell_type": "markdown",
   "metadata": {},
   "source": [
    "3)Write a Python program to calculate the sum of all numbers from 1 to 100 using a for loop."
   ]
  },
  {
   "cell_type": "code",
   "execution_count": 3,
   "metadata": {},
   "outputs": [
    {
     "name": "stdout",
     "output_type": "stream",
     "text": [
      "sum of all numbers from 1 10 100: 5050\n"
     ]
    }
   ],
   "source": [
    "sum=0   # initialize sum with 0 \n",
    "for i in range(1,101): #range from 0 to 100. \n",
    "    sum=sum+i\n",
    "print(\"sum of all numbers from 1 10 100:\",sum) "
   ]
  },
  {
   "cell_type": "markdown",
   "metadata": {},
   "source": [
    "4)How do you iterate through a list using a for loop in Python?"
   ]
  },
  {
   "cell_type": "code",
   "execution_count": 6,
   "metadata": {},
   "outputs": [
    {
     "name": "stdout",
     "output_type": "stream",
     "text": [
      "1\n",
      "2\n",
      "3\n",
      "4\n",
      "5\n",
      "6\n",
      "7\n",
      "8\n",
      "9\n",
      "10\n",
      "1 2 3 4 5 6 7 8 9 10 "
     ]
    }
   ],
   "source": [
    "list1=[1,2,3,4,5,6,7,8,9,10]\n",
    "for i in list1:  # Iterating list using for loop\n",
    "    print(i)\n",
    "for i in range(len(list1)):  #getting length of list using len() function using for loop along with range() function\n",
    "    print(list1[i],end=' ')"
   ]
  },
  {
   "cell_type": "markdown",
   "metadata": {},
   "source": [
    "5)Write a Python program to find the product of all elements in a list using a for loop."
   ]
  },
  {
   "cell_type": "code",
   "execution_count": 8,
   "metadata": {},
   "outputs": [
    {
     "name": "stdout",
     "output_type": "stream",
     "text": [
      "product of all elements in a list: 100\n"
     ]
    }
   ],
   "source": [
    "list1=[2,5,5,2]\n",
    "prod=1\n",
    "for i in list1:\n",
    "    prod=prod*i\n",
    "print(\"product of all elements in a list:\",prod)"
   ]
  },
  {
   "cell_type": "markdown",
   "metadata": {},
   "source": [
    "6)Create a Python program that prints all even numbers from 1 to 20 using a for loop."
   ]
  },
  {
   "cell_type": "code",
   "execution_count": 10,
   "metadata": {},
   "outputs": [
    {
     "name": "stdout",
     "output_type": "stream",
     "text": [
      "even numbers from 1 to 20\n",
      "\n",
      "2\n",
      "4\n",
      "6\n",
      "8\n",
      "10\n",
      "12\n",
      "14\n",
      "16\n",
      "18\n",
      "20\n"
     ]
    }
   ],
   "source": [
    "print(\"even numbers from 1 to 20\\n\")\n",
    "for i in range(1,21):\n",
    "    if i%2==0:  #if any number divisable by 2 then it is even\n",
    "        print(i)"
   ]
  },
  {
   "cell_type": "markdown",
   "metadata": {},
   "source": [
    "7)Write a Python program that calculates the factorial of a number using a for loop."
   ]
  },
  {
   "cell_type": "code",
   "execution_count": 12,
   "metadata": {},
   "outputs": [
    {
     "name": "stdout",
     "output_type": "stream",
     "text": [
      "enter a number to find it's factorial:5\n",
      "factorial of 5 : 120\n"
     ]
    }
   ],
   "source": [
    "number=int(input(\"enter a number to find it's factorial:\")) #getting input from user\n",
    "fact=1\n",
    "for i in range(1,number+1): #range from 1 t0 6(1,2,3,4,5)\n",
    "        fact=fact*i         #5*4*3*2*1\n",
    "print(\"factorial of\",number,':',fact)"
   ]
  },
  {
   "cell_type": "markdown",
   "metadata": {},
   "source": [
    "8)How can you iterate through the characters of a string using a for loop in Python?"
   ]
  },
  {
   "cell_type": "code",
   "execution_count": 14,
   "metadata": {},
   "outputs": [
    {
     "name": "stdout",
     "output_type": "stream",
     "text": [
      "enter any string:PWSKILLS\n",
      "P\n",
      "W\n",
      "S\n",
      "K\n",
      "I\n",
      "L\n",
      "L\n",
      "S\n"
     ]
    }
   ],
   "source": [
    "#use the Python range() function to get the range of the sequence and use the len() function to get the length of the Passed object,iterate range(0, len(str)) using for loop.\n",
    "string=input(\"enter any string:\")\n",
    "for i in range(len(string)): \n",
    "    # for every iteration to get the index and corresponding character of the string.\n",
    "    print(string[i])"
   ]
  },
  {
   "cell_type": "markdown",
   "metadata": {},
   "source": [
    "9)Write a Python program to find the largest number in a list using a for loop."
   ]
  },
  {
   "cell_type": "code",
   "execution_count": 17,
   "metadata": {},
   "outputs": [
    {
     "name": "stdout",
     "output_type": "stream",
     "text": [
      "Largest element is:  89\n"
     ]
    }
   ],
   "source": [
    "a = [12,10,56,89,0,20]\n",
    "# variable to store largest number\n",
    "ln = a[0] if a else None\n",
    "# find largest number\n",
    "for i in a:\n",
    "    if i > ln:\n",
    "        ln = i\n",
    "print(\"Largest element is: \", ln)"
   ]
  },
  {
   "cell_type": "markdown",
   "metadata": {},
   "source": [
    "10)Create a Python program that prints the Fibonacci sequence up to a specified limit using a for loop."
   ]
  },
  {
   "cell_type": "code",
   "execution_count": 18,
   "metadata": {},
   "outputs": [
    {
     "name": "stdout",
     "output_type": "stream",
     "text": [
      "enter range to print fibonacci series:10\n",
      "0\n",
      "1\n",
      "1\n",
      "2\n",
      "3\n",
      "5\n",
      "8\n",
      "13\n",
      "21\n",
      "34\n",
      "55\n",
      "89\n"
     ]
    }
   ],
   "source": [
    "number=int(input('enter range to print fibonacci series:'))\n",
    "first,second=0,1 #Initialize the first and second variables 0 and 1 respectively.\n",
    "print(first)\n",
    "print(second)\n",
    "for x in range(1,number+1):\n",
    "    third = first + second\n",
    "    print(third)\n",
    "    first,second=second,third"
   ]
  },
  {
   "cell_type": "markdown",
   "metadata": {},
   "source": [
    "11)Write a Python program to count the number of vowels in a given string using a for loop."
   ]
  },
  {
   "cell_type": "code",
   "execution_count": 20,
   "metadata": {},
   "outputs": [
    {
     "name": "stdout",
     "output_type": "stream",
     "text": [
      "enter a string:FULL STACK DATA SCIENCE PRO\n",
      "number of vowels in FULL STACK DATA SCIENCE PRO : 8\n"
     ]
    }
   ],
   "source": [
    "string=input('enter a string:')\n",
    "count=0\n",
    "for i in string: # iterating through a string\n",
    "    if i in ['a','e','i','o','u','A','E','I','O','U']: # check if character in vowels or not\n",
    "        count=count+1\n",
    "print(\"number of vowels in\",string,':',count)"
   ]
  },
  {
   "cell_type": "markdown",
   "metadata": {},
   "source": [
    "12)Create a Python program that generates a multiplication table for a given number using a for loop."
   ]
  },
  {
   "cell_type": "code",
   "execution_count": 23,
   "metadata": {},
   "outputs": [
    {
     "name": "stdout",
     "output_type": "stream",
     "text": [
      "enter a number to print mutiplication table:15\n",
      "15 * 1 = 15 \n",
      "\n",
      "15 * 2 = 30 \n",
      "\n",
      "15 * 3 = 45 \n",
      "\n",
      "15 * 4 = 60 \n",
      "\n",
      "15 * 5 = 75 \n",
      "\n",
      "15 * 6 = 90 \n",
      "\n",
      "15 * 7 = 105 \n",
      "\n",
      "15 * 8 = 120 \n",
      "\n",
      "15 * 9 = 135 \n",
      "\n",
      "15 * 10 = 150 \n",
      "\n"
     ]
    }
   ],
   "source": [
    "number=int(input('enter a number to print mutiplication table:'))\n",
    "for i in range(1,10+1): # upto number*10\n",
    "    print(number,'*',i,'=',number*i,'\\n') #print upto 10 times"
   ]
  },
  {
   "cell_type": "markdown",
   "metadata": {},
   "source": [
    "13)Write a Python program to reverse a list using a for loop."
   ]
  },
  {
   "cell_type": "code",
   "execution_count": 39,
   "metadata": {},
   "outputs": [
    {
     "name": "stdout",
     "output_type": "stream",
     "text": [
      "[9, 8, 'data science', 2, 1]\n"
     ]
    }
   ],
   "source": [
    "list1=[1,2,'data science',8,9]\n",
    "list2=[] #copy elements from last to first\n",
    "for i in list1:    #access the elements from the last index and print the elements until the starting element is reached.\n",
    "    list2=[i]+list2  #[1]+[],[2]+[1],['datascience']+[2,1].......[9,8,'datascience',2,1]\n",
    "print(list2)"
   ]
  },
  {
   "cell_type": "markdown",
   "metadata": {},
   "source": [
    "14)Write a Python program to find the common elements between two lists using a for loop.14)"
   ]
  },
  {
   "cell_type": "code",
   "execution_count": 47,
   "metadata": {},
   "outputs": [
    {
     "name": "stdout",
     "output_type": "stream",
     "text": [
      "[1, 2, 3, 8, 'pro', 9, 6]\n"
     ]
    }
   ],
   "source": [
    "list1=[1,2,3,7,8,'pro',9,100,89,6,'vanitha']\n",
    "list2=[8,9,1,2,3,6,10,'pro']\n",
    "list3=[]\n",
    "for i in list1: #take every element from list1\n",
    "    if i in list2: # compare list1 value present in list2 or not if present\n",
    "        list3.append(i) # append to list3\n",
    "print(list3)"
   ]
  },
  {
   "cell_type": "markdown",
   "metadata": {},
   "source": [
    "15)Explain how to use a for loop to iterate through the keys and values of a dictionary in Python."
   ]
  },
  {
   "cell_type": "code",
   "execution_count": 53,
   "metadata": {},
   "outputs": [
    {
     "name": "stdout",
     "output_type": "stream",
     "text": [
      "quiz1\n",
      "quiz2\n",
      "quiz3\n",
      "20\n",
      "30\n",
      "50\n",
      "('quiz1', 20)\n",
      "('quiz2', 30)\n",
      "('quiz3', 50)\n",
      "20\n",
      "30\n",
      "50\n"
     ]
    }
   ],
   "source": [
    "# just we put dictionary in for loop we can iterate through keys by using keys(),values(),items() function\n",
    "dic={'quiz1':20,'quiz2':30,'quiz3':50}\n",
    "for i in dic:\n",
    "    print(i) #iterate through keys\n",
    "for i in dic.values():\n",
    "    print(i) \n",
    "for i in dic.items():\n",
    "    print(i)\n",
    "#we can accsess values using dict[key]\n",
    "for i in dic:\n",
    "    print(dic[i])"
   ]
  },
  {
   "cell_type": "markdown",
   "metadata": {},
   "source": [
    "16)Write a Python program to find the GCD (Greatest Common Divisor) of two numbers using a for\n",
    "loop."
   ]
  },
  {
   "cell_type": "code",
   "execution_count": 57,
   "metadata": {},
   "outputs": [
    {
     "name": "stdout",
     "output_type": "stream",
     "text": [
      "enter a number:45\n",
      "enter a number:50\n",
      "GCD of 45 and 50 is: 5\n"
     ]
    }
   ],
   "source": [
    "#largest number that divides both of them.\n",
    "x = int(input('enter a number:'))\n",
    "y=int(input('enter a number:'))\n",
    "if x > y: # finding minimum value of x,y\n",
    "    z=x\n",
    "else:\n",
    "    z=y\n",
    "for i in range(1,z+1): #iterate until minimum number from 1.\n",
    "  if x%i == 0 and y%i == 0: #if i divides both x,y that largest number is gcd \n",
    "    gcd = i\n",
    "\n",
    "print(\"GCD of\", x, \"and\", y, \"is:\", gcd)"
   ]
  },
  {
   "cell_type": "markdown",
   "metadata": {},
   "source": [
    "17)Create a Python program that checks if a string is a palindrome using a for loop."
   ]
  },
  {
   "cell_type": "code",
   "execution_count": 59,
   "metadata": {},
   "outputs": [
    {
     "name": "stdout",
     "output_type": "stream",
     "text": [
      "enter a string to check it is palindrome or not:sahas\n",
      "sahas is palindrome string\n"
     ]
    }
   ],
   "source": [
    "string=input('enter a string to check it is palindrome or not:') #input from user\n",
    "rev_str=''     #empty string\n",
    "for i in string:\n",
    "    rev_str=i+rev_str     #reversing a string\n",
    "if string==rev_str:\n",
    "    print(string,'is palindrome string')\n",
    "else:\n",
    "    print(string,'is not palindrome string')"
   ]
  },
  {
   "cell_type": "markdown",
   "metadata": {},
   "source": [
    "18)Write a Python program to remove duplicates from a list using a for loop."
   ]
  },
  {
   "cell_type": "code",
   "execution_count": 65,
   "metadata": {},
   "outputs": [
    {
     "name": "stdout",
     "output_type": "stream",
     "text": [
      "after removing duplicates: ['krish', 'sudhansh', 'priya', 'datascientist']\n"
     ]
    }
   ],
   "source": [
    "d_l1=['krish','sudhansh','priya','priya','datascientist','datascientist']\n",
    "l1=[]     #empty list\n",
    "for i in d_l1: #take every element from d_l1\n",
    "    if i not in l1:  #element not present in new list append to this to new one.\n",
    "        l1.append(i)\n",
    "print('after removing duplicates:',l1)"
   ]
  },
  {
   "cell_type": "markdown",
   "metadata": {},
   "source": [
    "19)Create a Python program that counts the number of words in a sentence using a for loop."
   ]
  },
  {
   "cell_type": "code",
   "execution_count": 68,
   "metadata": {},
   "outputs": [
    {
     "name": "stdout",
     "output_type": "stream",
     "text": [
      "enter a sentence to count number of words:hello pwskills am kotla vanitha\n",
      "5\n"
     ]
    }
   ],
   "source": [
    "string=input('enter a sentence to count number of words:')\n",
    "word=1\n",
    "for i in string:\n",
    "    if i==' ': #caculate the white spaces \n",
    "        word=word+1\n",
    "print(word)"
   ]
  },
  {
   "cell_type": "markdown",
   "metadata": {},
   "source": [
    "20)Write a Python program to find the sum of all odd numbers from 1 to 50 using a for loop."
   ]
  },
  {
   "cell_type": "code",
   "execution_count": 70,
   "metadata": {},
   "outputs": [
    {
     "name": "stdout",
     "output_type": "stream",
     "text": [
      "sum of odd numbers from 1 to 50: 625\n"
     ]
    }
   ],
   "source": [
    "sum=0\n",
    "for i in range(1,51):\n",
    "    if i%2!=0: #odd numbers which or not divisible by 2\n",
    "        sum=sum+i\n",
    "print(\"sum of odd numbers from 1 to 50:\",sum)"
   ]
  },
  {
   "cell_type": "markdown",
   "metadata": {},
   "source": [
    "21)Write a Python program that checks if a given year is a leap year using a for loop."
   ]
  },
  {
   "cell_type": "code",
   "execution_count": 73,
   "metadata": {},
   "outputs": [
    {
     "name": "stdout",
     "output_type": "stream",
     "text": [
      "enter a starting year: 2000\n",
      "enter how many years you'd like to check: 4\n",
      "2000: Is a leap year\n",
      "2001\n",
      "2002\n",
      "2003\n",
      "2004: Is a leap year\n",
      "enter a year:2004\n",
      "2004 is leap year\n"
     ]
    }
   ],
   "source": [
    "start_year = int(input(\"enter a starting year: \"))\n",
    "num_of_years = int(input(\"enter how many years you'd like to check: \"))\n",
    "end_year = start_year + num_of_years\n",
    "# The formula used below to determine when a year is a leap year or not\n",
    "for year in range(start_year-1, end_year):\n",
    "    year += 1    \n",
    "    if year % 4 == 0 and (year % 100 != 0 or year % 400 == 0):\n",
    "        print (\"{}: Is a leap year\".format(year)) #format method{}\n",
    "    else:\n",
    "        print (year)\n",
    "#________________________________________________________________________________________\n",
    "#simply\n",
    "year=int(input('enter a year:'))\n",
    "if year%4==0 and (year%100!=0 or year%400==0):\n",
    "    print(year,'is leap year')\n",
    "else:\n",
    "    print(year,'is not leap year')"
   ]
  },
  {
   "cell_type": "markdown",
   "metadata": {},
   "source": [
    "22)create a Python program that calculates the square root of a number using a for loop."
   ]
  },
  {
   "cell_type": "code",
   "execution_count": 78,
   "metadata": {},
   "outputs": [
    {
     "name": "stdout",
     "output_type": "stream",
     "text": [
      "enter a number:2\n",
      "square root of 2 : 1.4142135623730951\n"
     ]
    }
   ],
   "source": [
    "number=int(input('enter a number:'))\n",
    "sqrt=number**0.5 \n",
    "print('square root of',number,':',sqrt)"
   ]
  },
  {
   "cell_type": "code",
   "execution_count": 88,
   "metadata": {},
   "outputs": [
    {
     "name": "stdout",
     "output_type": "stream",
     "text": [
      "enter a number:13\n",
      "square root: 3.6055512754\n"
     ]
    }
   ],
   "source": [
    "number=int(input('enter a number:'))\n",
    "accuracy=10 #number of decimals\n",
    "s=0\n",
    "step=1\n",
    "for i in range(accuracy+1):\n",
    "    while(s+step)**2<=number:\n",
    "        s+=step\n",
    "    step=step/10\n",
    "s=format(s,'.'+str(accuracy)+'f')\n",
    "print('square root:',s)"
   ]
  },
  {
   "cell_type": "markdown",
   "metadata": {},
   "source": [
    "23)Write a Python program to find the LCM (Least Common Multiple) of two numbers using a for\n",
    "loop."
   ]
  },
  {
   "cell_type": "code",
   "execution_count": 83,
   "metadata": {},
   "outputs": [
    {
     "name": "stdout",
     "output_type": "stream",
     "text": [
      "enter a number:2\n",
      "enter a number:3\n",
      "6.0\n"
     ]
    }
   ],
   "source": [
    "num1=int(input('enter a number:'))\n",
    "num2=int(input('enter a number:'))\n",
    "if x > y: # finding minimum value of x,y\n",
    "    z=x\n",
    "else:\n",
    "    z=y\n",
    "for i in range(1,z+1): #iterate until minimum number from 1.\n",
    "    if num1%i == 0 and num2%i == 0: #if i divides both x,y that largest number is gcd \n",
    "        gcd = i\n",
    "lcm=(num1*num2)/gcd #lcm=(2*3)/1=6\n",
    "print(lcm)\n",
    "    "
   ]
  },
  {
   "cell_type": "markdown",
   "metadata": {},
   "source": [
    "# If else :"
   ]
  },
  {
   "cell_type": "markdown",
   "metadata": {},
   "source": [
    "1)Write a Python program to check if a number is positive, negative, or zero using an if-else\n",
    "statement."
   ]
  },
  {
   "cell_type": "code",
   "execution_count": 89,
   "metadata": {},
   "outputs": [
    {
     "name": "stdout",
     "output_type": "stream",
     "text": [
      "enter a number:0\n",
      "given number is zero\n"
     ]
    }
   ],
   "source": [
    "number=int(input('enter a number:'))\n",
    "if number>0: #if condition number is greater than zero then it is positive\n",
    "    print(number,'is positive')\n",
    "elif number<0:\n",
    "    print(number,'is negative') #less than zero then it is negative\n",
    "else:\n",
    "    print('given number is zero')"
   ]
  },
  {
   "cell_type": "markdown",
   "metadata": {},
   "source": [
    "2)Create a Python program that checks if a given number is even or odd using an if-else statement."
   ]
  },
  {
   "cell_type": "code",
   "execution_count": 90,
   "metadata": {},
   "outputs": [
    {
     "name": "stdout",
     "output_type": "stream",
     "text": [
      "enter a number:100\n",
      "100 is even\n"
     ]
    }
   ],
   "source": [
    "number=int(input('enter a number:'))\n",
    "if number%2==0: # divisible by 2 then it is even\n",
    "    print(number,'is even')\n",
    "else:\n",
    "    print(\"number is odd\")"
   ]
  },
  {
   "cell_type": "markdown",
   "metadata": {},
   "source": [
    "3)How can you use nested if-else statements in Python, and provide an example?"
   ]
  },
  {
   "cell_type": "code",
   "execution_count": 104,
   "metadata": {},
   "outputs": [
    {
     "name": "stdout",
     "output_type": "stream",
     "text": [
      "enter a marks:45\n",
      "pass\n"
     ]
    }
   ],
   "source": [
    "#nested if-else statementsare used to check mutiple conditions\n",
    "#example\n",
    "marks=int(input('enter a marks:'))\n",
    "if 90<marks<=100:\n",
    "    print('excellent')\n",
    "elif 90>=marks>80:\n",
    "    print('good')\n",
    "elif 80>=marks>70:\n",
    "    print('average')\n",
    "elif 70>=marks>40:\n",
    "    print('pass')\n",
    "else:\n",
    "    print('fail')"
   ]
  },
  {
   "cell_type": "markdown",
   "metadata": {},
   "source": [
    "4)Write a Python program to determine the largest of three numbers using if-else."
   ]
  },
  {
   "cell_type": "code",
   "execution_count": 105,
   "metadata": {},
   "outputs": [
    {
     "name": "stdout",
     "output_type": "stream",
     "text": [
      "enter a number:30\n",
      "enter a number:97\n",
      "enter a number:67\n",
      "97 is greatest number\n"
     ]
    }
   ],
   "source": [
    "num1=int(input('enter a number:'))\n",
    "num2=int(input('enter a number:'))\n",
    "num3=int(input('enter a number:'))\n",
    "if num1>num2 and num1>num2:\n",
    "    print(num1,'is greatest number')\n",
    "elif num2>num3 and num2>num3:\n",
    "    print(num2,'is greatest number')\n",
    "else:\n",
    "    print(num3,'is greatest number')"
   ]
  },
  {
   "cell_type": "markdown",
   "metadata": {},
   "source": [
    "5)Write a Python program that calculates the absolute value of a number using if-else."
   ]
  },
  {
   "cell_type": "code",
   "execution_count": 106,
   "metadata": {},
   "outputs": [
    {
     "name": "stdout",
     "output_type": "stream",
     "text": [
      "enter a number-90\n",
      "90\n"
     ]
    }
   ],
   "source": [
    "number=int(input('enter a number'))\n",
    "if number<0:\n",
    "    print(abs(number))\n",
    "else:\n",
    "    print(number)"
   ]
  },
  {
   "cell_type": "markdown",
   "metadata": {},
   "source": [
    "6)Create a Python program that checks if a given character is a vowel or consonant using if-else."
   ]
  },
  {
   "cell_type": "code",
   "execution_count": 108,
   "metadata": {},
   "outputs": [
    {
     "name": "stdout",
     "output_type": "stream",
     "text": [
      "give  character to check it is vowel or consonant:D\n",
      "D is consonant\n"
     ]
    }
   ],
   "source": [
    "char=input('give  character to check it is vowel or consonant:')\n",
    "if char in ['a','e','i','o','u','A','E','I','O','U']:\n",
    "    print(char,'is vowel')\n",
    "else:\n",
    "    print(char,'is consonant')"
   ]
  },
  {
   "cell_type": "markdown",
   "metadata": {},
   "source": [
    "7)Write a Python program to determine if a user is eligible to vote based on their age using if-else."
   ]
  },
  {
   "cell_type": "code",
   "execution_count": 110,
   "metadata": {},
   "outputs": [
    {
     "name": "stdout",
     "output_type": "stream",
     "text": [
      "enter your age:56\n",
      "your eligible for vote\n"
     ]
    }
   ],
   "source": [
    "age=int(input('enter your age:'))\n",
    "if age>18:         #checking condition\n",
    "    print('your eligible for vote')\n",
    "else:\n",
    "    print('your not eligible for vote')"
   ]
  },
  {
   "cell_type": "markdown",
   "metadata": {},
   "source": [
    "8)Create a Python program that calculates the discount amount based on the purchase amount\n",
    "using if-else."
   ]
  },
  {
   "cell_type": "code",
   "execution_count": 115,
   "metadata": {},
   "outputs": [
    {
     "name": "stdout",
     "output_type": "stream",
     "text": [
      "Enter Sale Amount: 2500\n",
      "Discount :  125.0\n",
      "Net Pay  :  2375.0\n"
     ]
    }
   ],
   "source": [
    "pur_amt = int(input(\"Enter Sale Amount: \"))\n",
    "# checking conditions and calculating discount\n",
    "if(pur_amt>0):\n",
    "    if pur_amt<=5000:\n",
    "        disc =pur_amt*0.05 #discount is 5% discount\n",
    "    elif pur_amt<=15000:\n",
    "        disc=pur_amt*0.10  #dicount is 10% discount\n",
    "    elif pur_amt<=25000:\n",
    "        disc=pur_amt*0.20   #20% discount\n",
    "    else:\n",
    "         disc=pur_amt*0.30\n",
    "    print(\"Discount : \",disc)\n",
    "    print(\"Net Pay  : \",pur_amt-disc)\n",
    "else:\n",
    "    print(\"Invalid Amount\")"
   ]
  },
  {
   "cell_type": "markdown",
   "metadata": {},
   "source": [
    "9)Write a Python program to check if a number is within a specified range using if-else."
   ]
  },
  {
   "cell_type": "code",
   "execution_count": 116,
   "metadata": {},
   "outputs": [
    {
     "name": "stdout",
     "output_type": "stream",
     "text": [
      "Enter a number : 5\n",
      "5 is present in the range.\n"
     ]
    }
   ],
   "source": [
    "range_1 = range(2, 20, 3)  #(start,stop,step)----2,5,8,like that upto 20\n",
    "number = int(input('Enter a number : '))\n",
    "if number in range_1 :\n",
    "    print(number, 'is present in the range.')\n",
    "else :\n",
    "    print(number, 'is not present in the range.')"
   ]
  },
  {
   "cell_type": "markdown",
   "metadata": {},
   "source": [
    "10)Create a Python program that determines the grade of a student based on their score using\n",
    "if-else."
   ]
  },
  {
   "cell_type": "code",
   "execution_count": 120,
   "metadata": {},
   "outputs": [
    {
     "name": "stdout",
     "output_type": "stream",
     "text": [
      "enter a marks:90\n",
      "A\n"
     ]
    }
   ],
   "source": [
    "marks=int(input('enter a marks:')) #taking marks from user\n",
    "if 90<marks<=100: #checking condition\n",
    "    print('A+')\n",
    "elif 90>=marks>80:\n",
    "    print('A')\n",
    "elif 80>=marks>70:\n",
    "    print('B+')\n",
    "elif 70>=marks>60:\n",
    "    print('B')\n",
    "elif 60>=marks>50:\n",
    "    print('C')\n",
    "else:            #else block\n",
    "    print('fail')"
   ]
  },
  {
   "cell_type": "markdown",
   "metadata": {},
   "source": [
    "11.Write a Python program to check if a string is empty or not using if-else."
   ]
  },
  {
   "cell_type": "code",
   "execution_count": 122,
   "metadata": {},
   "outputs": [
    {
     "name": "stdout",
     "output_type": "stream",
     "text": [
      "enter string:\n",
      "given string is empty\n"
     ]
    }
   ],
   "source": [
    "string=input('enter string:')\n",
    "if string=='':    #comparing entered string with empty one\n",
    "    print('given string is empty')\n",
    "else:\n",
    "    print('given string is not empty')"
   ]
  },
  {
   "cell_type": "markdown",
   "metadata": {},
   "source": [
    "12.Create a Python program that identifies the type of a triangle (e.g., equilateral, isosceles, or scalene) based on input values using if-else."
   ]
  },
  {
   "cell_type": "code",
   "execution_count": 124,
   "metadata": {},
   "outputs": [
    {
     "name": "stdout",
     "output_type": "stream",
     "text": [
      "Input lengths of the triangle sides: \n",
      "x length: 12\n",
      "y length: 12\n",
      "z length: 108\n",
      "isosceles triangle\n"
     ]
    }
   ],
   "source": [
    "print(\"Input lengths of the triangle sides: \")\n",
    "x = int(input(\"x length: \"))\n",
    "y = int(input(\"y length: \"))\n",
    "z = int(input(\"z length: \"))\n",
    "if x == y == z:\n",
    "    print(\"Equilateral triangle\") #three angles must same\n",
    "elif x==y or y==z or z==x:       #two must same angles\n",
    "    print(\"isosceles triangle\")\n",
    "else:\n",
    "    print(\"Scalene triangle\")  # three are diffrent angles"
   ]
  },
  {
   "cell_type": "markdown",
   "metadata": {},
   "source": [
    "13.Write a Python program to determine the day of the week based on a user-provided number\n",
    "using if-else."
   ]
  },
  {
   "cell_type": "code",
   "execution_count": 123,
   "metadata": {},
   "outputs": [
    {
     "name": "stdout",
     "output_type": "stream",
     "text": [
      "enter a number:6\n",
      "day of this week is FRIDAY\n"
     ]
    }
   ],
   "source": [
    "day_no=int(input('enter a number:'))  # take day number from user\n",
    "if day_no<=7:    #checking condition \n",
    "    if day_no==1:\n",
    "        print('day of this week is SUNDAY')\n",
    "    elif day_no==2:\n",
    "         print('day of this week is MONDAY')\n",
    "    elif day_no==3:\n",
    "         print('day of this week is TUESDAY')\n",
    "    elif day_no==4:\n",
    "         print('day of this week is WEDNESDAY')\n",
    "    elif day_no==5:\n",
    "         print('day of this week is THURSDAY')\n",
    "    elif day_no==6:\n",
    "        print('day of this week is FRIDAY')\n",
    "    elif day_no==7:\n",
    "        print('day of this week is SATURDAY')\n",
    "else:\n",
    "    print('Enter valid number')"
   ]
  },
  {
   "cell_type": "markdown",
   "metadata": {},
   "source": [
    "14.Create a Python program that checks if a given year is a leap year using both if-else and a\n",
    "function."
   ]
  },
  {
   "cell_type": "code",
   "execution_count": 125,
   "metadata": {},
   "outputs": [
    {
     "name": "stdout",
     "output_type": "stream",
     "text": [
      "enter a year:2004\n",
      "2004 is leep year\n",
      "enter a year:1994\n",
      "1994 is not leap year\n"
     ]
    }
   ],
   "source": [
    "year=int(input('enter a year:')) # take input from user\n",
    "if year%4==0 and (year%100!=0 or year%400==0):\n",
    "    print(year,'is leep year')\n",
    "else:\n",
    "    print(year,'is not leap year')\n",
    "#using fuction\n",
    "def leap(year):\n",
    "    if year%4==0 and (year%100!=0 or year%400==0):\n",
    "        return 1\n",
    "    else:\n",
    "        return 0\n",
    "year=int(input('enter a year:'))\n",
    "a=leap(year)\n",
    "if a==1:print(year,'is leap year')\n",
    "else:print(year,'is not leap year')"
   ]
  },
  {
   "cell_type": "markdown",
   "metadata": {},
   "source": [
    "15.How do you use the \"assert\" statement in Python to add debugging checks within if-else blocks?"
   ]
  },
  {
   "cell_type": "code",
   "execution_count": 133,
   "metadata": {},
   "outputs": [
    {
     "name": "stdout",
     "output_type": "stream",
     "text": [
      "enter a number:70\n"
     ]
    },
    {
     "ename": "AssertionError",
     "evalue": "number greater than 100 expected got:70",
     "output_type": "error",
     "traceback": [
      "\u001b[0;31m---------------------------------------------------------------------------\u001b[0m",
      "\u001b[0;31mAssertionError\u001b[0m                            Traceback (most recent call last)",
      "Cell \u001b[0;32mIn[133], line 5\u001b[0m\n\u001b[1;32m      3\u001b[0m num\u001b[38;5;241m=\u001b[39m\u001b[38;5;28mint\u001b[39m(\u001b[38;5;28minput\u001b[39m(\u001b[38;5;124m'\u001b[39m\u001b[38;5;124menter a number:\u001b[39m\u001b[38;5;124m'\u001b[39m))\n\u001b[1;32m      4\u001b[0m \u001b[38;5;28;01mif\u001b[39;00m num\u001b[38;5;241m>\u001b[39m\u001b[38;5;241m50\u001b[39m:\n\u001b[0;32m----> 5\u001b[0m     \u001b[38;5;28;01massert\u001b[39;00m num\u001b[38;5;241m>\u001b[39m\u001b[38;5;241m100\u001b[39m,\u001b[38;5;124mf\u001b[39m\u001b[38;5;124m'\u001b[39m\u001b[38;5;124mnumber greater than 100 expected got:\u001b[39m\u001b[38;5;132;01m{\u001b[39;00mnum\u001b[38;5;132;01m}\u001b[39;00m\u001b[38;5;124m'\u001b[39m\n\u001b[1;32m      6\u001b[0m \u001b[38;5;28;01melse\u001b[39;00m:\n\u001b[1;32m      7\u001b[0m     \u001b[38;5;28;01massert\u001b[39;00m num\u001b[38;5;241m<\u001b[39m\u001b[38;5;241m100\u001b[39m,\u001b[38;5;124mf\u001b[39m\u001b[38;5;124m'\u001b[39m\u001b[38;5;124mnumber less than 100 got:\u001b[39m\u001b[38;5;132;01m{\u001b[39;00mnum\u001b[38;5;132;01m}\u001b[39;00m\u001b[38;5;124m'\u001b[39m\n",
      "\u001b[0;31mAssertionError\u001b[0m: number greater than 100 expected got:70"
     ]
    }
   ],
   "source": [
    "#assert is a key word.assertion mainly useful while developing debugging.it is not handled any error rather than it raise an error.\n",
    "#assert condition {optional message}\n",
    "num=int(input('enter a number:'))\n",
    "if num>50:\n",
    "    assert num>100,f'number greater than 100 expected got:{num}'\n",
    "else:\n",
    "    assert num<100,f'number less than 100 got:{num}'"
   ]
  },
  {
   "cell_type": "markdown",
   "metadata": {},
   "source": [
    "16.Create a Python program that determines the eligibility of a person for a senior citizen discount\n",
    "based on age using if-else."
   ]
  },
  {
   "cell_type": "code",
   "execution_count": 127,
   "metadata": {},
   "outputs": [
    {
     "name": "stdout",
     "output_type": "stream",
     "text": [
      "enter your age:70\n",
      "you are eligible for senior citizen discount\n"
     ]
    }
   ],
   "source": [
    "age=int(input('enter your age:'))\n",
    "if age>50:\n",
    "    print('you are eligible for senior citizen discount')\n",
    "else:\n",
    "    print('you are not eligible for senior citizen discount')"
   ]
  },
  {
   "cell_type": "markdown",
   "metadata": {},
   "source": [
    "17.Write a Python program to categorize a given character as uppercase, lowercase, or neither\n",
    "using if-else."
   ]
  },
  {
   "cell_type": "code",
   "execution_count": 126,
   "metadata": {},
   "outputs": [
    {
     "name": "stdout",
     "output_type": "stream",
     "text": [
      "enter a character:E\n",
      "Upper\n"
     ]
    }
   ],
   "source": [
    "ch = input('enter a character:')\n",
    "if(ord(ch) >= 65 and ord(ch) <= 90):  #ascii of A-Z are 65-90 ord() method is ued to get ascii corresponding value.\n",
    "    print('Upper')\n",
    "elif(ord(ch) >= 97 and ord(ch) <= 122): #ascii of a-z are 97-122\n",
    "    print('Lower')\n",
    "else:\n",
    "    print('neither')"
   ]
  },
  {
   "cell_type": "markdown",
   "metadata": {},
   "source": [
    "18.Write a Python program to determine the roots of a quadratic equation using if-else."
   ]
  },
  {
   "cell_type": "code",
   "execution_count": 136,
   "metadata": {},
   "outputs": [
    {
     "name": "stdout",
     "output_type": "stream",
     "text": [
      "Equation: ax^2 + bx + c \n",
      "Enter a: 1\n",
      "Enter b: -4\n",
      "Enter c: 3\n",
      "The first root:  3.0\n",
      "The second root:  1.0\n"
     ]
    }
   ],
   "source": [
    "print(\"Equation:ax^2 + bx + c \") #quadratic equation,If the value of the discriminant is lesser than 0, the roots are imaginary.\n",
    "#If the value of the discriminant is greater than 0, the roots aren’t imaginary.\n",
    "a=int(input(\"Enter a: \")) #taking inputs from user\n",
    "b=int(input(\"Enter b: \"))\n",
    "c=int(input(\"Enter c: \"))\n",
    "d=b**2-4*a*c   #discriminant\n",
    "d1=d**0.5      #squareroot of d\n",
    "if(d<0):\n",
    "    print(\"The roots are imaginary. \")\n",
    "else:\n",
    "    r1=(-b+d1)/2*a\n",
    "    r2=(-b-d1)/2*a\n",
    "    print(\"The first root: \",round(r1,2)) \n",
    "    print(\"The second root: \",round(r2,2))"
   ]
  },
  {
   "cell_type": "markdown",
   "metadata": {},
   "source": [
    "19.Create a Python program that checks if a given year is a century year or not using if-else."
   ]
  },
  {
   "cell_type": "code",
   "execution_count": 140,
   "metadata": {},
   "outputs": [
    {
     "name": "stdout",
     "output_type": "stream",
     "text": [
      "enter a year:2007\n",
      "21 century\n"
     ]
    }
   ],
   "source": [
    "year=int(input('enter a year:')) #The first century starts from 1 to 100 and the second-century start from 101 to 200.\n",
    "# No negative value is allow for year\n",
    "if (year <= 0):\n",
    "    print(\"0 and negative is not allow for a year\")  \n",
    "elif (year <= 100):             # If year is between 1 to 100 it will come in 1st century\n",
    "    print(\"1st century\")\n",
    "elif (year % 100 == 0):\n",
    "    print(year // 100,\"century\")\n",
    "else:\n",
    "    print(year // 100 + 1,\"century\") # 1 because 2007 is 21st century."
   ]
  },
  {
   "cell_type": "markdown",
   "metadata": {},
   "source": [
    "20.Write a Python program to determine if a given number is a perfect square using if-else."
   ]
  },
  {
   "cell_type": "code",
   "execution_count": 141,
   "metadata": {},
   "outputs": [
    {
     "name": "stdout",
     "output_type": "stream",
     "text": [
      "enter a number to check it is perfect square or not:16\n",
      "16 is perfect squre\n"
     ]
    }
   ],
   "source": [
    "number=int(input('enter a number to check it is perfect square or not:'))\n",
    "import math\n",
    "if(number>= 0):\n",
    "    sr = int(math.sqrt(number)) # sqrt function returns floating value so we have to convert it into integer\n",
    "    if sr*sr==number:\n",
    "        print(number,'is perfect squre')\n",
    "    else:\n",
    "        print(number,'is not perfect squre')\n",
    "else:\n",
    "    print('enter valid number')"
   ]
  },
  {
   "cell_type": "markdown",
   "metadata": {},
   "source": [
    "21.Explain the purpose of the \"continue\" and \"break\" statements within if-else loops."
   ]
  },
  {
   "cell_type": "markdown",
   "metadata": {},
   "source": [
    "The break and continue statements in Python are used to skip parts of the current loop or break out of the loop \n",
    "completely. The break statement can be used if you need to break out of a for or while loop and move onto the next section of code.\n",
    "Using loops in Python automates and repeats the tasks in an efficient manner. But sometimes, there may arise a condition where you want to exit the loop completely, skip an iteration or ignore that condition."
   ]
  },
  {
   "cell_type": "code",
   "execution_count": 161,
   "metadata": {},
   "outputs": [
    {
     "name": "stdout",
     "output_type": "stream",
     "text": [
      "1 2 3 4 5 6 7 8 9 11 12 13 14 15 16 17 18 \n",
      " 1\n",
      "\n",
      " 2\n",
      "\n",
      " 3\n",
      "\n",
      " 4\n",
      "\n",
      " 5\n",
      "\n",
      " 6\n",
      "\n",
      " 7\n",
      "\n",
      " 8\n",
      "\n",
      " 9\n"
     ]
    }
   ],
   "source": [
    "#program using break,continue.\n",
    "number=10\n",
    "for i in range(1,19):\n",
    "    if i==10:\n",
    "        continue     #skip present execution and start execute till loop terminates\n",
    "    print(i,end=' ')\n",
    "for i in range(1,19):\n",
    "    if i==number:\n",
    "        break          #terminate the loop if given condition is satisfice\n",
    "    print('\\n',i)"
   ]
  },
  {
   "cell_type": "markdown",
   "metadata": {},
   "source": [
    "22.Create a Python program that calculates the BMI (Body Mass Index) of a person based on their\n",
    "weight and height using if-else."
   ]
  },
  {
   "cell_type": "code",
   "execution_count": 142,
   "metadata": {},
   "outputs": [
    {
     "name": "stdout",
     "output_type": "stream",
     "text": [
      "enter your height:162.3\n",
      "enter your weight:42\n",
      "Your Body Mass Index is: 15.944549412728074\n",
      "You are underweight.\n"
     ]
    }
   ],
   "source": [
    "#Body Mass Index (BMI) is a measure of body fat on the basis of height and weight, respectively.\n",
    "height=float(input('enter your height:'))\n",
    "weight=float(input('enter your weight:'))\n",
    "# defining a function for BMI  \n",
    "bmi=weight/(height/100)**2  \n",
    "print('Your Body Mass Index is:',bmi)\n",
    "# using the if-elif-else conditions  \n",
    "if bmi<= 18.5:  \n",
    "    print(\"You are underweight.\")  \n",
    "elif bmi<= 24.9:  \n",
    "    print(\"You are healthy.\")  \n",
    "elif bmi<= 29.9:  \n",
    "    print(\"You are overweight.\")  \n",
    "else:  \n",
    "    print(\"You are obese.\")  "
   ]
  },
  {
   "cell_type": "markdown",
   "metadata": {},
   "source": [
    "23.How can you use the \"filter()\" function with if-else statements to filter elements from a list?"
   ]
  },
  {
   "cell_type": "code",
   "execution_count": 146,
   "metadata": {},
   "outputs": [
    {
     "name": "stdout",
     "output_type": "stream",
     "text": [
      "[90, 91, 94, 78, 60]\n"
     ]
    }
   ],
   "source": [
    "numbers = [70, 60, 80, 90, 50,82,90,91,84,82,94,99,78,65,61,45,89,87,49,76,81,94]\n",
    "def filter_check(list1): #define a function\n",
    "    if list1 in numbers: #if list present in numbers\n",
    "        return 1\n",
    "    else:\n",
    "        return 0\n",
    "list1=[90,91,94,9,100,78,60,98]\n",
    "filter_list=filter(filter_check,list1) #filters list1 from numbers\n",
    "print(list(filter_list))"
   ]
  },
  {
   "cell_type": "markdown",
   "metadata": {},
   "source": [
    "24.Write a Python program to determine if a given number is prime or not using if-else."
   ]
  },
  {
   "cell_type": "code",
   "execution_count": 1,
   "metadata": {},
   "outputs": [
    {
     "name": "stdout",
     "output_type": "stream",
     "text": [
      "enter a number:8\n",
      "8 is not prime number\n"
     ]
    }
   ],
   "source": [
    "number=int(input('enter a number:')) #input fom user\n",
    "c=0\n",
    "for i in range(1,number+1):\n",
    "    if number%i==0:\n",
    "        c=c+1    #count of factors\n",
    "if c==2:\n",
    "    print(number,'is prime number')\n",
    "else:\n",
    "    print(number,'is not prime number')"
   ]
  },
  {
   "cell_type": "markdown",
   "metadata": {},
   "source": [
    "Map :-\n",
    "1.Explain the purpose of the `map()` function in Python and provide an example of how it can be\n",
    "used to apply a function to each element of an iterable.\n",
    "2.Write a Python program that uses the `map()` function to square each element of a list of\n",
    "numbers.\n",
    "3.How does the `map()` function differ from a list comprehension in Python, and when would you\n",
    "choose one over the other?\n",
    "4.Create a Python program that uses the `map()` function to convert a list of names to uppercase.\n",
    "5.Write a Python program that uses the `map()` function to calculate the length of each word in a\n",
    "list of strings.6. How can you use the `map()` function to apply a custom function to elements of multiple lists\n",
    "simultaneously in Python?\n",
    "7.Create a Python program that uses `map()` to convert a list of temperatures from Celsius to\n",
    "Fahrenheit.\n",
    "8.Write a Python program that uses the `map()` function to round each element of a list of\n",
    "floating-point numbers to the nearest integer."
   ]
  },
  {
   "cell_type": "markdown",
   "metadata": {},
   "source": [
    "The map() function in Python is a built-in function that is used to apply a specified function to all the items in an iterable (e.g., a list, tuple, or string) and returns an iterator that produces the results.\n",
    "map(function, iterable, ...)\n",
    "The map() function takes each element from the iterable, applies the specified function to it, and returns an iterator containing the results.\n",
    "map fuction maps an iterable to a function to perform certain action."
   ]
  },
  {
   "cell_type": "code",
   "execution_count": 6,
   "metadata": {},
   "outputs": [
    {
     "name": "stdout",
     "output_type": "stream",
     "text": [
      "[2, 4, 6, 8, 10]\n"
     ]
    }
   ],
   "source": [
    "#example\n",
    "def add(x):\n",
    "    return x+x\n",
    "# Create a list of numbers\n",
    "numbers = [1, 2, 3, 4, 5]\n",
    "result = map(add, numbers)\n",
    "# Convert the result to a list and print it\n",
    "result_list = list(result)\n",
    "print(result_list)\n"
   ]
  },
  {
   "cell_type": "code",
   "execution_count": 3,
   "metadata": {},
   "outputs": [
    {
     "name": "stdout",
     "output_type": "stream",
     "text": [
      "[1, 4, 9, 16, 25]\n"
     ]
    }
   ],
   "source": [
    "# Define a function to square a number\n",
    "def square(x):\n",
    "    return x**2\n",
    "# Create a list of numbers\n",
    "numbers = [1, 2, 3, 4, 5]\n",
    "# Use map() to apply the square function to each element of the list\n",
    "result = map(square, numbers)\n",
    "# Convert the result to a list and print it\n",
    "result_list = list(result)\n",
    "print(result_list)"
   ]
  },
  {
   "cell_type": "code",
   "execution_count": 8,
   "metadata": {},
   "outputs": [
    {
     "name": "stdout",
     "output_type": "stream",
     "text": [
      "[1, 4, 9, 16, 25]\n"
     ]
    }
   ],
   "source": [
    "numbers = [1, 2, 3, 4, 5]\n",
    "squared = map(lambda x: x ** 2, numbers)\n",
    "result = list(squared)\n",
    "print(result)"
   ]
  },
  {
   "cell_type": "code",
   "execution_count": 10,
   "metadata": {},
   "outputs": [
    {
     "name": "stdout",
     "output_type": "stream",
     "text": [
      "[1, 4, 9, 16, 25]\n"
     ]
    }
   ],
   "source": [
    "numbers = [1, 2, 3, 4, 5]\n",
    "squared = [x ** 2 for x in numbers]\n",
    "print(squared)"
   ]
  },
  {
   "cell_type": "markdown",
   "metadata": {},
   "source": [
    "Readability:\n",
    "\n",
    "List comprehensions are often considered more readable and concise for simple operations, especially when applying a single function or expression to each element.\n",
    "Functionality:\n",
    "\n",
    "map() is more flexible when you need to apply a function that takes multiple arguments or when you want to combine multiple iterables.\n",
    "List comprehensions are generally more straightforward for simple operations on a single iterable."
   ]
  },
  {
   "cell_type": "markdown",
   "metadata": {},
   "source": [
    "Use map() when:\n",
    "\n",
    "You need to apply a function that takes multiple arguments.\n",
    "You want lazy evaluation.\n",
    "You're working with multiple iterables.\n",
    "Use list comprehensions when:\n",
    "\n",
    "The operation is simple and can be expressed concisely.\n",
    "You prefer a more readable and expressive syntax for straightforward cases."
   ]
  },
  {
   "cell_type": "code",
   "execution_count": 12,
   "metadata": {},
   "outputs": [
    {
     "name": "stdout",
     "output_type": "stream",
     "text": [
      "['VANITHA', 'VANDANA', 'LALITHA', 'SREENIVAS', 'SANTHA']\n"
     ]
    }
   ],
   "source": [
    "# List of names\n",
    "names = [\"vanitha\", \"vandana\", \"lalitha\", \"sreenivas\",\"santha\"]\n",
    "\n",
    "# Use map() to convert each name to uppercase\n",
    "uppercased_names = map(str.upper, names)\n",
    "\n",
    "# Convert the result to a list and print it\n",
    "result_list = list(uppercased_names)\n",
    "print(result_list)\n"
   ]
  },
  {
   "cell_type": "code",
   "execution_count": 19,
   "metadata": {},
   "outputs": [
    {
     "name": "stdout",
     "output_type": "stream",
     "text": [
      "[5, 6, 6, 4]\n"
     ]
    }
   ],
   "source": [
    "# List of strings\n",
    "words_list = [\"apple\", \"banana\", \"orange\", \"kiwi\"]\n",
    "# Use map() to calculate the length of each word\n",
    "word_lengths = map(len, words_list)\n",
    "# Convert the result to a list and print it\n",
    "result_list =list(word_lengths)\n",
    "print(result_list)\n"
   ]
  },
  {
   "cell_type": "code",
   "execution_count": 20,
   "metadata": {},
   "outputs": [
    {
     "name": "stdout",
     "output_type": "stream",
     "text": [
      "[6, 8, 10, 12]\n"
     ]
    }
   ],
   "source": [
    "# Custom function to add corresponding elements from two lists\n",
    "def add_elements(x, y):\n",
    "    return x + y\n",
    "\n",
    "# Two lists of numbers\n",
    "list1 = [1, 2, 3, 4]\n",
    "list2 = [5, 6, 7, 8]\n",
    "\n",
    "# Use map() to apply the custom function to corresponding elements of the lists\n",
    "result = map(add_elements, list1, list2)\n",
    "\n",
    "# Convert the result to a list and print it\n",
    "result_list = list(result)\n",
    "print(result_list)\n"
   ]
  },
  {
   "cell_type": "code",
   "execution_count": 21,
   "metadata": {},
   "outputs": [
    {
     "name": "stdout",
     "output_type": "stream",
     "text": [
      "[32.0, 50.0, 68.0, 86.0, 104.0]\n"
     ]
    }
   ],
   "source": [
    "# Custom function to convert Celsius to Fahrenheit\n",
    "def celsius_to_fahrenheit(celsius):\n",
    "    return (9/5) * celsius + 32\n",
    "\n",
    "# List of temperatures in Celsius\n",
    "celsius_temperatures = [0, 10, 20, 30, 40]\n",
    "\n",
    "# Use map() to apply the conversion function to each temperature\n",
    "fahrenheit_temperatures = map(celsius_to_fahrenheit, celsius_temperatures)\n",
    "\n",
    "# Convert the result to a list and print it\n",
    "fahrenheit_list = list(fahrenheit_temperatures)\n",
    "print(fahrenheit_list)\n"
   ]
  },
  {
   "cell_type": "code",
   "execution_count": 22,
   "metadata": {},
   "outputs": [
    {
     "name": "stdout",
     "output_type": "stream",
     "text": [
      "[3, 3, 2, 5, 5]\n"
     ]
    }
   ],
   "source": [
    "# List of floating-point numbers\n",
    "float_numbers = [3.14, 2.718, 1.5, 4.6, 5.25]\n",
    "\n",
    "# Use map() to round each element to the nearest integer\n",
    "rounded_numbers = map(round, float_numbers)\n",
    "\n",
    "# Convert the result to a list and print it\n",
    "result_list = list(rounded_numbers)\n",
    "print(result_list)\n"
   ]
  },
  {
   "cell_type": "markdown",
   "metadata": {},
   "source": [
    "Reduce :-\n",
    "1. What is the `reduce()` function in Python, and what module should you import to use it? Provide\n",
    "an example of its basic usage.\n",
    "2. Write a Python program that uses the `reduce()` function to find the product of all elements in a\n",
    "list.\n",
    "3. Create a Python program that uses `reduce()` to find the maximum element in a list of numbers.\n",
    "4. How can you use the `reduce()` function to concatenate a list of strings into a single string?\n",
    "5. Write a Python program that calculates the factorial of a number using the `reduce()` function.\n",
    "6. Create a Python program that uses `reduce()` to find the GCD (Greatest Common Divisor) of a list\n",
    "of numbers.\n",
    "7. Write a Python program that uses the `reduce()` function to find the sum of the digits of a given\n",
    "number."
   ]
  },
  {
   "cell_type": "markdown",
   "metadata": {},
   "source": [
    "The reduce() function is part of the functools module in Python. It is used to apply a binary function (a function that takes two arguments) cumulatively to the items of an iterable, from left to right, so as to reduce the iterable to a single value."
   ]
  },
  {
   "cell_type": "code",
   "execution_count": 23,
   "metadata": {},
   "outputs": [
    {
     "name": "stdout",
     "output_type": "stream",
     "text": [
      "120\n"
     ]
    }
   ],
   "source": [
    "from functools import reduce\n",
    "\n",
    "# List of numbers\n",
    "numbers = [2, 3, 4, 5]\n",
    "\n",
    "# Define a binary function to calculate the product of two numbers\n",
    "def multiply(x, y):\n",
    "    return x * y\n",
    "\n",
    "# Use reduce() to find the product of all numbers in the list\n",
    "product = reduce(multiply, numbers)\n",
    "\n",
    "print(product)\n"
   ]
  },
  {
   "cell_type": "code",
   "execution_count": 24,
   "metadata": {},
   "outputs": [
    {
     "name": "stdout",
     "output_type": "stream",
     "text": [
      "15\n"
     ]
    }
   ],
   "source": [
    "from functools import reduce\n",
    "\n",
    "# List of numbers\n",
    "numbers = [5, 12, 8, 3, 15, 7]\n",
    "\n",
    "# Define a binary function to find the maximum of two numbers\n",
    "def find_max(x, y):\n",
    "    return x if x > y else y\n",
    "\n",
    "# Use reduce() to find the maximum element in the list\n",
    "max_number = reduce(find_max, numbers)\n",
    "\n",
    "print(max_number)\n"
   ]
  },
  {
   "cell_type": "code",
   "execution_count": 25,
   "metadata": {},
   "outputs": [
    {
     "name": "stdout",
     "output_type": "stream",
     "text": [
      "Hello world!\n"
     ]
    }
   ],
   "source": [
    "from functools import reduce\n",
    "\n",
    "# List of strings\n",
    "string_list = [\"Hello\", \" \", \"world\", \"!\"]\n",
    "\n",
    "# Define a binary function to concatenate two strings\n",
    "def concatenate_strings(x, y):\n",
    "    return x + y\n",
    "\n",
    "# Use reduce() to concatenate all strings in the list\n",
    "result_string = reduce(concatenate_strings, string_list)\n",
    "\n",
    "print(result_string)\n"
   ]
  },
  {
   "cell_type": "code",
   "execution_count": 26,
   "metadata": {},
   "outputs": [
    {
     "name": "stdout",
     "output_type": "stream",
     "text": [
      "The factorial of 5 is: 120\n"
     ]
    }
   ],
   "source": [
    "from functools import reduce\n",
    "import operator\n",
    "\n",
    "# Function to calculate factorial\n",
    "def factorial(n):\n",
    "    # Check if n is non-negative\n",
    "    if n < 0:\n",
    "        raise ValueError(\"Factorial is undefined for negative numbers.\")\n",
    "    # Use reduce() with operator.mul to calculate factorial\n",
    "    return reduce(operator.mul, range(1, n + 1), 1)\n",
    "\n",
    "# Test the factorial function\n",
    "number = 5\n",
    "result = factorial(number)\n",
    "\n",
    "print(f\"The factorial of {number} is: {result}\")\n"
   ]
  },
  {
   "cell_type": "code",
   "execution_count": 27,
   "metadata": {},
   "outputs": [
    {
     "name": "stdout",
     "output_type": "stream",
     "text": [
      "The GCD of the numbers is: 12\n"
     ]
    }
   ],
   "source": [
    "from functools import reduce\n",
    "import math\n",
    "\n",
    "# List of numbers\n",
    "numbers = [24, 36, 48, 60]\n",
    "\n",
    "# Function to find GCD using reduce and math.gcd\n",
    "def find_gcd(x, y):\n",
    "    return math.gcd(x, y)\n",
    "\n",
    "# Use reduce() to find the GCD of all numbers in the list\n",
    "gcd_result = reduce(find_gcd, numbers)\n",
    "\n",
    "print(f\"The GCD of the numbers is: {gcd_result}\")\n"
   ]
  },
  {
   "cell_type": "code",
   "execution_count": 28,
   "metadata": {},
   "outputs": [
    {
     "name": "stdout",
     "output_type": "stream",
     "text": [
      "The sum of the digits of 12345 is: 15\n"
     ]
    }
   ],
   "source": [
    "from functools import reduce\n",
    "\n",
    "# Function to find the sum of digits\n",
    "def sum_of_digits(x, y):\n",
    "    return x + y\n",
    "\n",
    "# Function to convert a number to a list of its digits\n",
    "def digits_list(number):\n",
    "    return [int(digit) for digit in str(number)]\n",
    "\n",
    "# Given number\n",
    "given_number = 12345\n",
    "\n",
    "# Use reduce() to find the sum of digits\n",
    "sum_of_digits_result = reduce(sum_of_digits, digits_list(given_number), 0)\n",
    "\n",
    "print(f\"The sum of the digits of {given_number} is: {sum_of_digits_result}\")\n"
   ]
  },
  {
   "cell_type": "markdown",
   "metadata": {},
   "source": [
    "Filter :-\n",
    "1. Explain the purpose of the `filter()` function in Python and provide an example of how it can be\n",
    "used to filter elements from an iterable.\n",
    "2. Write a Python program that uses the `filter()` function to select even numbers from a list of\n",
    "integers.\n",
    "3. Create a Python program that uses the `filter()` function to select names that start with a specific\n",
    "letter from a list of strings.\n",
    "4. Write a Python program that uses the `filter()` function to select prime numbers from a list of\n",
    "integers.\n",
    "5. How can you use the `filter()` function to remove None values from a list in Python?\n",
    "6. Create a Python program that uses `filter()` to select words longer than a certain length from a\n",
    "list of strings.\n",
    "7. Write a Python program that uses the `filter()` function to select elements greater than a\n",
    "specified threshold from a list of values"
   ]
  },
  {
   "cell_type": "markdown",
   "metadata": {},
   "source": [
    "The filter() function in Python is a built-in function that is used to construct an iterator from elements of an iterable for which a function returns true"
   ]
  },
  {
   "cell_type": "code",
   "execution_count": 29,
   "metadata": {},
   "outputs": [
    {
     "name": "stdout",
     "output_type": "stream",
     "text": [
      "[2, 4, 6, 8, 10]\n"
     ]
    }
   ],
   "source": [
    "# Function to check if a number is even\n",
    "def is_even(num):\n",
    "    return num % 2 == 0\n",
    "# List of numbers\n",
    "numbers = [1, 2, 3, 4, 5, 6, 7, 8, 9, 10]\n",
    "\n",
    "# Use filter() to filter out only the even numbers\n",
    "filtered_numbers = filter(is_even, numbers)\n",
    "\n",
    "# Convert the result to a list and print it\n",
    "result_list = list(filtered_numbers)\n",
    "print(result_list)\n"
   ]
  },
  {
   "cell_type": "code",
   "execution_count": 31,
   "metadata": {},
   "outputs": [
    {
     "name": "stdout",
     "output_type": "stream",
     "text": [
      "['chandana', 'charan']\n"
     ]
    }
   ],
   "source": [
    "# Function to check if a name starts with a specific letter\n",
    "def starts_with_letter(name, letter):\n",
    "    return name.startswith(letter)\n",
    "# List of names\n",
    "names = [\"vanitha\",\"vandana\",\"chandana\",\"devika\", \"divya\",\"charan\"]\n",
    "\n",
    "# Specify the letter to filter names\n",
    "selected_letter = \"\"\n",
    "\n",
    "# Use filter() to select names starting with the specified letter\n",
    "selected_names = filter(lambda x: starts_with_letter(x, selected_letter), names)\n",
    "\n",
    "# Convert the result to a list and print it\n",
    "result_list = list(selected_names)\n",
    "print(result_list)\n"
   ]
  },
  {
   "cell_type": "code",
   "execution_count": 33,
   "metadata": {},
   "outputs": [
    {
     "name": "stdout",
     "output_type": "stream",
     "text": [
      "[2, 3, 5, 7, 11, 13, 17, 19, 23, 29, 31, 37, 41, 43, 47]\n"
     ]
    }
   ],
   "source": [
    "# Function to check if a number is prime\n",
    "def is_prime(num):\n",
    "    if num < 2:\n",
    "        return False\n",
    "    for i in range(2, int(num**0.5) + 1):\n",
    "        if num % i == 0:\n",
    "            return False\n",
    "    return True\n",
    "# List of integers\n",
    "numbers = [2, 3, 5, 7, 8, 11, 13, 17, 19, 23, 29, 31, 37, 41, 43, 47]\n",
    "# Use filter() to select prime numbers from the list\n",
    "prime_numbers = filter(is_prime, numbers)\n",
    "# Convert the result to a list and print it\n",
    "result_list = list(prime_numbers)\n",
    "print(result_list)"
   ]
  },
  {
   "cell_type": "code",
   "execution_count": 35,
   "metadata": {},
   "outputs": [
    {
     "name": "stdout",
     "output_type": "stream",
     "text": [
      "[1, 3, 4, 6, 8]\n"
     ]
    }
   ],
   "source": [
    "# List with None values\n",
    "original_list = [1, None, 3, 4, None, 6, None, 8]\n",
    "# Use filter() to remove None values\n",
    "filtered_list = filter(lambda x: x is not None, original_list)\n",
    "# Convert the result to a list and print it\n",
    "result_list = list(filtered_list)\n",
    "print(result_list)"
   ]
  },
  {
   "cell_type": "code",
   "execution_count": 36,
   "metadata": {},
   "outputs": [
    {
     "name": "stdout",
     "output_type": "stream",
     "text": [
      "['banana', 'orange']\n"
     ]
    }
   ],
   "source": [
    "# List of strings\n",
    "word_list = [\"apple\", \"banana\", \"orange\", \"kiwi\", \"grape\", \"pear\"]\n",
    "\n",
    "# Minimum length to filter words\n",
    "min_length = 5\n",
    "\n",
    "# Use filter() to select words longer than min_length\n",
    "selected_words = filter(lambda word: len(word) > min_length, word_list)\n",
    "\n",
    "# Convert the result to a list and print it\n",
    "result_list = list(selected_words)\n",
    "print(result_list)\n"
   ]
  },
  {
   "cell_type": "code",
   "execution_count": 38,
   "metadata": {},
   "outputs": [
    {
     "name": "stdout",
     "output_type": "stream",
     "text": [
      "[25, 30, 40]\n"
     ]
    }
   ],
   "source": [
    "# List of values\n",
    "values = [10, 25, 15, 30, 5, 40]\n",
    "# Threshold value\n",
    "threshold = 20\n",
    "\n",
    "# Use filter() to select elements greater than the threshold\n",
    "selected_values = filter(lambda x: x > threshold, values)\n",
    "\n",
    "# Convert the result to a list and print it\n",
    "result_list = list(selected_values)\n",
    "print(result_list)\n"
   ]
  },
  {
   "cell_type": "markdown",
   "metadata": {},
   "source": [
    "Recursion:-\n",
    "1.Explain the concept of recursion in Python. How does it differ from iteration?\n",
    "2.Write a Python program to calculate the factorial of a number using recursion.\n",
    "3.Create a recursive Python function to find the nth Fibonacci number.\n",
    "4.Write a recursive Python function to calculate the sum of all elements in a list.\n",
    "5.How can you prevent a recursive function from running indefinitely, causing a stack overflow error?\n",
    "6.Create a recursive Python function to find the greatest common divisor (GCD) of two numbers\n",
    "7.using the Euclidean algorithm.\n",
    "8.Write a recursive Python function to reverse a string.\n",
    "9.Create a recursive Python function to calculate the power of a number (x^n).\n",
    "10.Write a recursive Python function to find all permutations of a given string.\n",
    "11.Write a recursive Python function to check if a string is a palindrome.\n",
    "12.Create a recursive Python function to generate all possible combinations of a list of elements."
   ]
  },
  {
   "cell_type": "markdown",
   "metadata": {},
   "source": [
    "Recursion is a programming concept where a function calls itself in order to solve a smaller instance of the same problem. In Python, as in many other programming languages, functions can be defined in a recursive manner. The basic idea is to break down a problem into smaller subproblems and solve them recursively until a base case is reached. The base case is essential to prevent the function from calling itself indefinitely, providing a stopping condition.\n",
    "\n",
    "Recursion differs from iteration in that recursion uses function calls to break down a problem into subproblems, while iteration uses loops to repeatedly execute a set of instructions. Here are some key differences:"
   ]
  },
  {
   "cell_type": "code",
   "execution_count": 39,
   "metadata": {},
   "outputs": [
    {
     "name": "stdout",
     "output_type": "stream",
     "text": [
      "The factorial of 5 is: 120\n"
     ]
    }
   ],
   "source": [
    "def factorial(n):\n",
    "    # Base case: factorial of 0 or 1 is 1\n",
    "    if n == 0 or n == 1:\n",
    "        return 1\n",
    "    # Recursive case: n! = n * (n-1)!\n",
    "    else:\n",
    "        return n * factorial(n - 1)\n",
    "\n",
    "# Example usage\n",
    "number = 5\n",
    "result = factorial(number)\n",
    "\n",
    "print(f\"The factorial of {number} is: {result}\")\n"
   ]
  },
  {
   "cell_type": "code",
   "execution_count": 40,
   "metadata": {},
   "outputs": [
    {
     "name": "stdout",
     "output_type": "stream",
     "text": [
      "The 6th Fibonacci number is: 8\n"
     ]
    }
   ],
   "source": [
    "'''The Fibonacci sequence is a series of numbers where each number is the sum of the two preceding ones. The sequence starts with 0 and 1.'''\n",
    "def fibonacci(n):\n",
    "    # Base case: return 0 for the first Fibonacci number\n",
    "    if n == 0:\n",
    "        return 0\n",
    "    # Base case: return 1 for the second Fibonacci number\n",
    "    elif n == 1:\n",
    "        return 1\n",
    "    # Recursive case: nth Fibonacci number is the sum of (n-1)th and (n-2)th Fibonacci numbers\n",
    "    else:\n",
    "        return fibonacci(n - 1) + fibonacci(n - 2)\n",
    "\n",
    "# Example usage\n",
    "n = 6\n",
    "result = fibonacci(n)\n",
    "\n",
    "print(f\"The {n}th Fibonacci number is: {result}\")\n"
   ]
  },
  {
   "cell_type": "code",
   "execution_count": 41,
   "metadata": {},
   "outputs": [
    {
     "name": "stdout",
     "output_type": "stream",
     "text": [
      "The sum of the elements in the list is: 15\n"
     ]
    }
   ],
   "source": [
    "def recursive_sum(lst):\n",
    "    # Base case: an empty list has a sum of 0\n",
    "    if not lst:\n",
    "        return 0\n",
    "    # Recursive case: sum the first element with the sum of the rest of the list\n",
    "    else:\n",
    "        return lst[0] + recursive_sum(lst[1:])\n",
    "\n",
    "# Example usage\n",
    "numbers = [1, 2, 3, 4, 5]\n",
    "result = recursive_sum(numbers)\n",
    "\n",
    "print(f\"The sum of the elements in the list is: {result}\")\n"
   ]
  },
  {
   "cell_type": "markdown",
   "metadata": {},
   "source": [
    "Preventing a recursive function from running indefinitely and causing a stack overflow error involves implementing proper termination conditions, often referred to as base cases. Base cases are the conditions under which the recursion stops, and the function returns a result without making further recursive calls.\n",
    "\n",
    "Define Base Cases:\n",
    "\n",
    "Clearly define base cases that specify when the recursive function should stop. Ensure that base cases are reached in all possible scenarios.\n",
    "Ensure Convergence:\n",
    "\n",
    "Ensure that the recursive calls converge toward the base cases. Each recursive call should bring the problem closer to a simpler, well-defined case.\n",
    "Check Inputs:\n",
    "\n",
    "Validate inputs to the recursive function to ensure they meet the expected criteria. For example, if the function expects a positive integer as input, check that the input is indeed a positive integer.\n",
    "Use Iterative Alternatives:\n",
    "\n",
    "Consider whether the problem can be solved using an iterative approach instead of recursion. Some problems may be more naturally suited to iteration, and using recursion may not provide additional benefits."
   ]
  },
  {
   "cell_type": "code",
   "execution_count": 42,
   "metadata": {},
   "outputs": [
    {
     "name": "stdout",
     "output_type": "stream",
     "text": [
      "120\n"
     ]
    }
   ],
   "source": [
    "def factorial(n):\n",
    "    # Base case: factorial of 0 or 1 is 1\n",
    "    if n == 0 or n == 1:\n",
    "        return 1\n",
    "    # Recursive case: n! = n * (n-1)!\n",
    "    else:\n",
    "        return n * factorial(n - 1)\n",
    "\n",
    "# Example usage\n",
    "result = factorial(5)\n",
    "print(result)\n"
   ]
  },
  {
   "cell_type": "markdown",
   "metadata": {},
   "source": [
    "The greatest common divisor (GCD) of two numbers is the largest positive integer that divides both numbers without leaving a remainder"
   ]
  },
  {
   "cell_type": "code",
   "execution_count": 44,
   "metadata": {},
   "outputs": [
    {
     "name": "stdout",
     "output_type": "stream",
     "text": [
      "The GCD of 48 and 18 is: 6\n"
     ]
    }
   ],
   "source": [
    "def gcd(a, b):\n",
    "    # Base case: GCD of a and 0 is a\n",
    "    if b == 0:\n",
    "        return a\n",
    "    # Recursive case: GCD of a and b is the same as GCD of b and a % b\n",
    "    else:\n",
    "        return gcd(b, a % b)\n",
    "# Example usage\n",
    "num1 = 48\n",
    "num2 = 18\n",
    "result = gcd(num1, num2)\n",
    "\n",
    "print(f\"The GCD of {num1} and {num2} is: {result}\")\n"
   ]
  },
  {
   "cell_type": "code",
   "execution_count": 47,
   "metadata": {},
   "outputs": [
    {
     "name": "stdout",
     "output_type": "stream",
     "text": [
      "The GCD of 48 and 18 using the Euclidean algorithm is: 6\n"
     ]
    }
   ],
   "source": [
    "def euclidean_gcd(a, b):\n",
    "    # Base case: GCD of a and 0 is a\n",
    "    if b == 0:\n",
    "        return a\n",
    "    # Recursive case: GCD of a and b is the same as GCD of b and a % b\n",
    "    else:\n",
    "        return euclidean_gcd(b, a % b)\n",
    "\n",
    "# Example usage\n",
    "num1 = 48\n",
    "num2 = 18\n",
    "result = euclidean_gcd(num1, num2)\n",
    "\n",
    "print(f\"The GCD of {num1} and {num2} using the Euclidean algorithm is: {result}\")\n"
   ]
  },
  {
   "cell_type": "code",
   "execution_count": 46,
   "metadata": {},
   "outputs": [
    {
     "name": "stdout",
     "output_type": "stream",
     "text": [
      "The original string: Hello, World!\n",
      "The reversed string: !dlroW ,olleH\n"
     ]
    }
   ],
   "source": [
    "def reverse_string(input_str):\n",
    "    # Base case: an empty string or a string with a single character is its own reverse\n",
    "    if len(input_str) <= 1:\n",
    "        return input_str\n",
    "    # Recursive case: reverse the substring excluding the first character, then concatenate the first character\n",
    "    else:\n",
    "        return reverse_string(input_str[1:]) + input_str[0]\n",
    "\n",
    "# Example usage\n",
    "original_str = \"Hello, World!\"\n",
    "reversed_str = reverse_string(original_str)\n",
    "\n",
    "print(f\"The original string: {original_str}\")\n",
    "print(f\"The reversed string: {reversed_str}\")\n"
   ]
  },
  {
   "cell_type": "code",
   "execution_count": 49,
   "metadata": {},
   "outputs": [
    {
     "name": "stdout",
     "output_type": "stream",
     "text": [
      "2 raised to the power of 5 is: 32\n"
     ]
    }
   ],
   "source": [
    "def power(x, n):\n",
    "    # Base case: x^0 is 1\n",
    "    if n == 0:\n",
    "        return 1\n",
    "    # Recursive case: x^n is the same as x * x^(n-1)\n",
    "    else:\n",
    "        return x * power(x, n - 1)\n",
    "# Example usage\n",
    "base = 2\n",
    "exponent = 5\n",
    "result = power(base, exponent)\n",
    "\n",
    "print(f\"{base} raised to the power of {exponent} is: {result}\")\n"
   ]
  },
  {
   "cell_type": "code",
   "execution_count": 51,
   "metadata": {},
   "outputs": [
    {
     "name": "stdout",
     "output_type": "stream",
     "text": [
      "All permutations of abc: ['abc', 'acb', 'bac', 'bca', 'cab', 'cba']\n"
     ]
    }
   ],
   "source": [
    "def permutations(string):\n",
    "    # Base case: if the string has only one character, return a list containing the string itself\n",
    "    if len(string) == 1:\n",
    "        return [string]\n",
    "    \n",
    "    # Recursive case: generate permutations by placing each character at the beginning and recursively permuting the rest\n",
    "    result = []\n",
    "    for i in range(len(string)):\n",
    "        first_char = string[i]\n",
    "        rest_of_string = string[:i] + string[i+1:]\n",
    "        rest_permutations = permutations(rest_of_string)\n",
    "        result.extend([first_char + perm for perm in rest_permutations])\n",
    "\n",
    "    return result\n",
    "# Example usage\n",
    "input_string = \"abc\"\n",
    "result = permutations(input_string)\n",
    "\n",
    "print(f\"All permutations of {input_string}: {result}\")\n"
   ]
  },
  {
   "cell_type": "code",
   "execution_count": 52,
   "metadata": {},
   "outputs": [
    {
     "name": "stdout",
     "output_type": "stream",
     "text": [
      "Is 'radar' a palindrome? True\n",
      "Is 'hello' a palindrome? False\n"
     ]
    }
   ],
   "source": [
    "def is_palindrome(s):\n",
    "    # Base case: an empty string or a string with a single character is a palindrome\n",
    "    if len(s) <= 1:\n",
    "        return True\n",
    "    # Recursive case: check if the first and last characters are the same, and recursively check the substring in between\n",
    "    else:\n",
    "        return s[0] == s[-1] and is_palindrome(s[1:-1])\n",
    "\n",
    "# Example usage\n",
    "palindrome_str = \"radar\"\n",
    "non_palindrome_str = \"hello\"\n",
    "\n",
    "print(f\"Is '{palindrome_str}' a palindrome? {is_palindrome(palindrome_str)}\")\n",
    "print(f\"Is '{non_palindrome_str}' a palindrome? {is_palindrome(non_palindrome_str)}\")\n"
   ]
  },
  {
   "cell_type": "code",
   "execution_count": 54,
   "metadata": {},
   "outputs": [
    {
     "name": "stdout",
     "output_type": "stream",
     "text": [
      "All combinations of [1, 2, 3]: [[], [3], [2], [2, 3], [1], [1, 3], [1, 2], [1, 2, 3]]\n"
     ]
    }
   ],
   "source": [
    "def combinations(elements):\n",
    "    # Base case: if the list is empty, return a list containing an empty list\n",
    "    if not elements:\n",
    "        return [[]]\n",
    "\n",
    "    # Recursive case: generate combinations by including or excluding the first element\n",
    "    first_element = elements[0]\n",
    "    rest_of_elements = elements[1:]\n",
    "    \n",
    "    # Combinations without including the first element\n",
    "    without_first = combinations(rest_of_elements)\n",
    "\n",
    "    # Combinations including the first element\n",
    "    with_first = [[first_element] + combo for combo in without_first]\n",
    "\n",
    "    # Combine both sets of combinations\n",
    "    result = without_first + with_first\n",
    "\n",
    "    return result\n",
    "\n",
    "# Example usage\n",
    "input_elements = [1, 2, 3]\n",
    "result = combinations(input_elements)\n",
    "\n",
    "print(f\"All combinations of {input_elements}: {result}\")\n"
   ]
  },
  {
   "cell_type": "markdown",
   "metadata": {},
   "source": [
    "Basics of Functions:\n",
    "What is a function in Python, and why is it used?\n",
    "How do you define a function in Python? Provide an example.\n",
    "Explain the difference between a function definition and a function call.\n",
    "Write a Python program that defines a function to calculate the sum of two numbers and then\n",
    "calls the function.\n",
    "What is a function signature, and what information does it typically include?\n",
    "Create a Python function that takes two arguments and returns their product.\n",
    "Function Parameters and Arguments:\n",
    "Explain the concepts of formal parameters and actual arguments in Python functions.\n",
    "Write a Python program that defines a function with default argument values.\n",
    "How do you use keyword arguments in Python function calls? Provide an example.\n",
    "Create a Python function that accepts a variable number of arguments and calculates their sum.\n",
    "What is the purpose of the `*args` and `**kwargs` syntax in function parameter lists?"
   ]
  },
  {
   "cell_type": "markdown",
   "metadata": {},
   "source": [
    "In Python, a function is a block of reusable code designed to perform a specific task. Functions provide a way to organize code into logical and modular units, making it easier to understand, maintain, and reuse. They play a crucial role in structuring programs and promoting code readability."
   ]
  },
  {
   "cell_type": "markdown",
   "metadata": {},
   "source": [
    "you can define a function using the def keyword, followed by the function name, a pair of parentheses for parameters (if any), and a colon. The function body is then indented."
   ]
  },
  {
   "cell_type": "code",
   "execution_count": 55,
   "metadata": {},
   "outputs": [
    {
     "name": "stdout",
     "output_type": "stream",
     "text": [
      "8\n"
     ]
    }
   ],
   "source": [
    "def add_numbers(a, b):\n",
    "    sum_result = a + b\n",
    "    return sum_result\n",
    "\n",
    "# Example usage\n",
    "result = add_numbers(3, 5)\n",
    "print(result)  # Output: 8"
   ]
  },
  {
   "cell_type": "markdown",
   "metadata": {},
   "source": [
    "Function Definition:\n",
    "A function definition is the statement where you create and specify the behavior of a function. It includes the function's name, parameters (if any), and the code block (function body) that gets executed when the function is called.\n"
   ]
  },
  {
   "cell_type": "code",
   "execution_count": 56,
   "metadata": {},
   "outputs": [],
   "source": [
    "def add_numbers(a, b):\n",
    "    sum_result = a + b\n",
    "    return sum_result"
   ]
  },
  {
   "cell_type": "markdown",
   "metadata": {},
   "source": [
    "Function Call:\n",
    "A function call is the act of actually using the function in your code by providing the required arguments or parameters, executing the code inside the function, and obtaining the result (if any).\n",
    "\n",
    "It involves writing the function name followed by parentheses that may contain arguments (actual values or variables) required by the function.\n",
    "\n",
    "The function call is the point in the code where the defined function is invoked and its logic is executed."
   ]
  },
  {
   "cell_type": "code",
   "execution_count": 58,
   "metadata": {},
   "outputs": [],
   "source": [
    "result = add_numbers(3, 5)"
   ]
  },
  {
   "cell_type": "code",
   "execution_count": 60,
   "metadata": {},
   "outputs": [
    {
     "name": "stdout",
     "output_type": "stream",
     "text": [
      "The sum of 7 and 3 is: 10\n"
     ]
    }
   ],
   "source": [
    "# Function definition\n",
    "def calculate_sum(a, b):\n",
    "    result = a + b\n",
    "    return result\n",
    "# Function call\n",
    "num1 = 7\n",
    "num2 = 3\n",
    "sum_result = calculate_sum(num1, num2)\n",
    "# Display the result\n",
    "print(f\"The sum of {num1} and {num2} is: {sum_result}\")\n"
   ]
  },
  {
   "cell_type": "markdown",
   "metadata": {},
   "source": [
    "A function signature in programming refers to the declaration of a function, which includes essential information about the function. The function signature helps define the function's interface, specifying how the function should be called and what parameters it accepts. In different programming languages, the specifics of what constitutes a function signature may vary, but common elements include:\n",
    "\n",
    "Function Name:\n",
    "\n",
    "The name that identifies the function. It is how the function is referenced or called in the code.\n",
    "Return Type:\n",
    "\n",
    "In languages that support explicit typing, the return type indicates the data type of the value that the function returns. If a function doesn't return a value, the return type may be specified as \"void\" or similar.\n",
    "Parameter Types:\n",
    "\n",
    "The data types of the parameters the function accepts. It specifies the types of values or variables that must be provided when calling the function.\n",
    "Parameter Names:\n",
    "\n",
    "The names given to the parameters within the function signature. These names are used within the function's body to reference the corresponding values or variables passed during the function call.\n",
    "Parameter Order:\n",
    "\n",
    "The order in which parameters are listed in the function signature. The order determines how the arguments must be supplied when calling the function.\n"
   ]
  },
  {
   "cell_type": "code",
   "execution_count": 61,
   "metadata": {},
   "outputs": [],
   "source": [
    "def add_numbers(x: int, y: int) -> int:\n",
    "    result = x + y\n",
    "    return result\n"
   ]
  },
  {
   "cell_type": "code",
   "execution_count": 62,
   "metadata": {},
   "outputs": [
    {
     "name": "stdout",
     "output_type": "stream",
     "text": [
      "The product of 4 and 7 is: 28\n"
     ]
    }
   ],
   "source": [
    "def calculate_product(a, b):\n",
    "    result = a * b\n",
    "    return result\n",
    "\n",
    "# Example usage\n",
    "num1 = 4\n",
    "num2 = 7\n",
    "product_result = calculate_product(num1, num2)\n",
    "\n",
    "print(f\"The product of {num1} and {num2} is: {product_result}\")\n"
   ]
  },
  {
   "cell_type": "markdown",
   "metadata": {},
   "source": [
    "Formal parameters are the placeholders or variables defined in the function signature. They act as local variables within the function and represent the values that the function expects to receive when it is called.\n",
    "Formal parameters are part of the function definition and serve as a contract between the function and the calling code, indicating the types and order of values that the function requires.\n",
    "def example_function(parameter1, parameter2):\n",
    "    function body\n",
    "Actual Arguments:\n",
    "Actual arguments, also known as arguments or parameters during a function call, are the real values or expressions provided in the function call to correspond to the formal parameters.\n",
    "Actual arguments are the concrete values that will replace the formal parameters when the function is executed. They can be variables, literals, or expressions.\n",
    "In Python, actual arguments are specified within the parentheses of the function call.\n",
    "result = example_function(value1, value2)"
   ]
  },
  {
   "cell_type": "code",
   "execution_count": 64,
   "metadata": {},
   "outputs": [
    {
     "name": "stdout",
     "output_type": "stream",
     "text": [
      "Hello, Guest!\n",
      "Good morning, vanitha!\n"
     ]
    }
   ],
   "source": [
    "def greet(name=\"Guest\", greeting=\"Hello\"):\n",
    "    return f\"{greeting}, {name}!\"\n",
    "\n",
    "# Example usage\n",
    "default_greeting = greet()\n",
    "custom_greeting = greet(name=\"vanitha\", greeting=\"Good morning\")\n",
    "\n",
    "print(default_greeting)   # Output: Hello, Guest!\n",
    "print(custom_greeting)    # Output: Good morning, Alice!\n"
   ]
  },
  {
   "cell_type": "markdown",
   "metadata": {},
   "source": [
    "\n",
    "In Python, you can use keyword arguments in function calls to specify values for parameters by explicitly mentioning the parameter names along with their corresponding values. This allows you to pass arguments to a function in any order, making the function call more readable and self-explanatory"
   ]
  },
  {
   "cell_type": "code",
   "execution_count": 68,
   "metadata": {},
   "outputs": [
    {
     "name": "stdout",
     "output_type": "stream",
     "text": [
      "Hello, vanitha!\n",
      "Hi, vandana!\n",
      "Hello, lalitha!!!\n"
     ]
    }
   ],
   "source": [
    "def greet(name, greeting=\"Hello\", punctuation=\"!\"):\n",
    "    \"\"\"\n",
    "    Greets a person with a customizable greeting.\n",
    "\n",
    "    :param name: The name of the person to greet.\n",
    "    :param greeting: The greeting message (default is \"Hello\").\n",
    "    :param punctuation: The punctuation to add at the end of the greeting (default is \"!\").\n",
    "    :return: The formatted greeting message.\n",
    "    \"\"\"\n",
    "    return f\"{greeting}, {name}{punctuation}\"\n",
    "\n",
    "# Example usage with keyword arguments\n",
    "greeting1 = greet(name=\"vanitha\")\n",
    "greeting2 = greet(name=\"vandana\", greeting=\"Hi\")\n",
    "greeting3 = greet(name=\"lalitha\", punctuation=\"!!!\")\n",
    "\n",
    "print(greeting1)  # Output: Hello, Alice!\n",
    "print(greeting2)  # Output: Hi, Bob!\n",
    "print(greeting3)  # Output: Hello, Charlie!!!\n"
   ]
  },
  {
   "cell_type": "markdown",
   "metadata": {},
   "source": [
    "\n",
    "The *args and **kwargs syntax in function parameter lists in Python provides a flexible way to work with variable numbers of arguments. These notations allow a function to accept an arbitrary number of positional arguments (*args) and keyword arguments (**kwargs), respectively.\n",
    "\n"
   ]
  },
  {
   "cell_type": "code",
   "execution_count": 69,
   "metadata": {},
   "outputs": [
    {
     "name": "stdout",
     "output_type": "stream",
     "text": [
      "1\n",
      "2\n",
      "3\n",
      "four\n"
     ]
    }
   ],
   "source": [
    "def example_function(*args):\n",
    "    for arg in args:\n",
    "        print(arg)\n",
    "\n",
    "example_function(1, 2, 3, \"four\")\n"
   ]
  },
  {
   "cell_type": "code",
   "execution_count": 70,
   "metadata": {},
   "outputs": [
    {
     "name": "stdout",
     "output_type": "stream",
     "text": [
      "name: Alice\n",
      "age: 25\n",
      "city: Wonderland\n"
     ]
    }
   ],
   "source": [
    "def example_function(**kwargs):\n",
    "    for key, value in kwargs.items():\n",
    "        print(f\"{key}: {value}\")\n",
    "\n",
    "example_function(name=\"Alice\", age=25, city=\"Wonderland\")\n"
   ]
  },
  {
   "cell_type": "code",
   "execution_count": 71,
   "metadata": {},
   "outputs": [
    {
     "name": "stdout",
     "output_type": "stream",
     "text": [
      "arg1: first\n",
      "args: (2, 3)\n",
      "kwarg1: custom\n",
      "kwargs: {'name': 'Alice', 'age': 25}\n"
     ]
    }
   ],
   "source": [
    "def example_function(arg1, *args, kwarg1=\"default\", **kwargs):\n",
    "    print(f\"arg1: {arg1}\")\n",
    "    print(f\"args: {args}\")\n",
    "    print(f\"kwarg1: {kwarg1}\")\n",
    "    print(f\"kwargs: {kwargs}\")\n",
    "\n",
    "example_function(\"first\", 2, 3, kwarg1=\"custom\", name=\"Alice\", age=25)\n"
   ]
  },
  {
   "cell_type": "markdown",
   "metadata": {},
   "source": [
    "Return Values and Scoping:\n",
    "Describe the role of the `return` statement in Python functions and provide examples.\n",
    "Explain the concept of variable scope in Python, including local and global variables.\n",
    "Write a Python program that demonstrates the use of global variables within functions.\n",
    "Create a Python function that calculates the factorial of a number and returns it.\n",
    "How can you access variables defined outside a function from within the function?\n",
    "Lambda Functions and Higher-Order Functions:\n",
    "1. What are lambda functions in Python, and when are they typically used?\n",
    "2. Write a Python program that uses lambda functions to sort a list of tuples based on the second\n",
    "element.\n",
    "3. Explain the concept of higher-order functions in Python, and provide an example.\n",
    "4. Create a Python function that takes a list of numbers and a function as arguments, applying the\n",
    "function to each element in the list."
   ]
  },
  {
   "cell_type": "markdown",
   "metadata": {},
   "source": [
    "RETURN STMT\n",
    "The return statement in Python functions is used to exit the function and return a value (or multiple values) to the calling code. When a function is called, the return statement is often employed to send back results or information that can be used in the broader context of the program. The return statement also serves the purpose of terminating the function's execution."
   ]
  },
  {
   "cell_type": "markdown",
   "metadata": {},
   "source": [
    "Local Variable Scope:\n",
    "\n",
    "A local variable is a variable defined within a function or a block of code. It is only accessible and visible within that specific function or block.\n",
    "Local variables are created when the function or block is executed and destroyed when it completes execution.\n",
    "They are not accessible outside the function or block in which they are defined.\n",
    "Global Variable Scope:\n",
    "\n",
    "A global variable is a variable defined outside any function or block of code. It is accessible throughout the entire program, including within functions.\n",
    "Global variables retain their values between function calls.\n",
    "To modify a global variable from within a function, you need to use the global keyword."
   ]
  },
  {
   "cell_type": "code",
   "execution_count": 73,
   "metadata": {},
   "outputs": [
    {
     "name": "stdout",
     "output_type": "stream",
     "text": [
      "I am local\n"
     ]
    }
   ],
   "source": [
    "def example_function():\n",
    "    local_variable = \"I am local\"\n",
    "    print(local_variable)\n",
    "\n",
    "example_function()\n",
    "# print(local_variable)  # This would result in an error\n"
   ]
  },
  {
   "cell_type": "code",
   "execution_count": 74,
   "metadata": {},
   "outputs": [
    {
     "name": "stdout",
     "output_type": "stream",
     "text": [
      "I am global\n",
      "I am global\n",
      "I am modified global\n"
     ]
    }
   ],
   "source": [
    "global_variable = \"I am global\"\n",
    "\n",
    "def example_function():\n",
    "    print(global_variable)\n",
    "\n",
    "example_function()\n",
    "print(global_variable)\n",
    "\n",
    "def modify_global():\n",
    "    global global_variable\n",
    "    global_variable = \"I am modified global\"\n",
    "\n",
    "modify_global()\n",
    "print(global_variable)\n"
   ]
  },
  {
   "cell_type": "code",
   "execution_count": 75,
   "metadata": {},
   "outputs": [
    {
     "name": "stdout",
     "output_type": "stream",
     "text": [
      "Before function calls: I am a global variable\n",
      "Inside the function: I am a global variable\n",
      "After modification: I am modified in the function\n"
     ]
    }
   ],
   "source": [
    "# Global variable\n",
    "global_variable = \"I am a global variable\"\n",
    "\n",
    "def print_global():\n",
    "    # Accessing the global variable\n",
    "    print(\"Inside the function:\", global_variable)\n",
    "\n",
    "def modify_global():\n",
    "    # Modifying the global variable\n",
    "    global global_variable\n",
    "    global_variable = \"I am modified in the function\"\n",
    "\n",
    "# Display the global variable before function calls\n",
    "print(\"Before function calls:\", global_variable)\n",
    "\n",
    "# Call the function that reads the global variable\n",
    "print_global()\n",
    "\n",
    "# Call the function that modifies the global variable\n",
    "modify_global()\n",
    "\n",
    "# Display the global variable after modification\n",
    "print(\"After modification:\", global_variable)\n"
   ]
  },
  {
   "cell_type": "code",
   "execution_count": 77,
   "metadata": {},
   "outputs": [
    {
     "name": "stdout",
     "output_type": "stream",
     "text": [
      "The factorial of 5 is: 120\n"
     ]
    }
   ],
   "source": [
    "def factorial(n):\n",
    "    \"\"\"Calculate the factorial of a non-negative integer.\n",
    "    :param n: The non-negative integer.\n",
    "    :return: The factorial of n.\n",
    "    \"\"\"\n",
    "    if n == 0 or n == 1:\n",
    "        return 1\n",
    "    else:\n",
    "        result = 1\n",
    "        for i in range(2, n + 1):\n",
    "            result *= i\n",
    "        return result\n",
    "\n",
    "# Example usage\n",
    "number = 5\n",
    "result = factorial(number)\n",
    "print(f\"The factorial of {number} is: {result}\")"
   ]
  },
  {
   "cell_type": "code",
   "execution_count": 78,
   "metadata": {},
   "outputs": [
    {
     "name": "stdout",
     "output_type": "stream",
     "text": [
      "Inside the function: I am a global variable\n"
     ]
    }
   ],
   "source": [
    "# you can access variables defined outside a function from within the function by using the global scope.\n",
    "global_variable = \"I am a global variable\"\n",
    "\n",
    "def read_global():\n",
    "    print(\"Inside the function:\", global_variable)\n",
    "\n",
    "# Call the function\n",
    "read_global()\n"
   ]
  },
  {
   "cell_type": "markdown",
   "metadata": {},
   "source": [
    "Anonymous Functions:\n",
    "When a function is needed for a short period and doesn't require a formal definition, lambda functions offer a concise way to create anonymous functions."
   ]
  },
  {
   "cell_type": "code",
   "execution_count": 79,
   "metadata": {},
   "outputs": [
    {
     "name": "stdout",
     "output_type": "stream",
     "text": [
      "8\n"
     ]
    }
   ],
   "source": [
    "add = lambda x, y: x + y\n",
    "print(add(3, 5))  # Output: 8\n"
   ]
  },
  {
   "cell_type": "markdown",
   "metadata": {},
   "source": [
    "Higher-Order Functions:\n",
    "\n",
    "Lambda functions are often used as arguments to higher-order functions like map() and filter()."
   ]
  },
  {
   "cell_type": "code",
   "execution_count": 81,
   "metadata": {},
   "outputs": [
    {
     "name": "stdout",
     "output_type": "stream",
     "text": [
      "[1, 4, 9, 16, 25]\n",
      "[2, 4]\n"
     ]
    }
   ],
   "source": [
    "numbers = [1, 2, 3, 4, 5]\n",
    "# Using lambda with map to square each element\n",
    "squared = list(map(lambda x: x**2, numbers))\n",
    "print(squared)  # Output: [1, 4, 9, 16, 25]\n",
    "# Using lambda with filter to select even numbers\n",
    "evens = list(filter(lambda x: x % 2 == 0, numbers))\n",
    "print(evens)    # Output: [2, 4]\n"
   ]
  },
  {
   "cell_type": "code",
   "execution_count": 82,
   "metadata": {},
   "outputs": [
    {
     "name": "stdout",
     "output_type": "stream",
     "text": [
      "Sorted List: [(4, 1), (3, 2), (1, 5), (2, 8)]\n"
     ]
    }
   ],
   "source": [
    "# List of tuples\n",
    "data = [(1, 5), (3, 2), (2, 8), (4, 1)]\n",
    "\n",
    "# Sorting based on the second element of each tuple\n",
    "sorted_data = sorted(data, key=lambda x: x[1])\n",
    "\n",
    "# Displaying the sorted list\n",
    "print(\"Sorted List:\", sorted_data)\n"
   ]
  },
  {
   "cell_type": "code",
   "execution_count": 83,
   "metadata": {},
   "outputs": [
    {
     "name": "stdout",
     "output_type": "stream",
     "text": [
      "Result of addition: 8\n",
      "Result of multiplication: 15\n"
     ]
    }
   ],
   "source": [
    "def apply_operation(x, y, operation):\n",
    "    return operation(x, y)\n",
    "\n",
    "def add(x, y):\n",
    "    return x + y\n",
    "\n",
    "def multiply(x, y):\n",
    "    return x * y\n",
    "\n",
    "result_add = apply_operation(3, 5, add)\n",
    "result_multiply = apply_operation(3, 5, multiply)\n",
    "\n",
    "print(\"Result of addition:\", result_add)         # Output: 8\n",
    "print(\"Result of multiplication:\", result_multiply)  # Output: 15\n"
   ]
  },
  {
   "cell_type": "code",
   "execution_count": 84,
   "metadata": {},
   "outputs": [
    {
     "name": "stdout",
     "output_type": "stream",
     "text": [
      "After applying double function: [2, 4, 6, 8, 10]\n",
      "After applying square function: [1, 4, 9, 16, 25]\n"
     ]
    }
   ],
   "source": [
    "def apply_function_to_list(numbers, func):\n",
    "    \"\"\"\n",
    "    Apply a given function to each element in a list.\n",
    "\n",
    "    :param numbers: List of numbers.\n",
    "    :param func: Function to apply to each element.\n",
    "    :return: List of results after applying the function.\n",
    "    \"\"\"\n",
    "    return [func(x) for x in numbers]\n",
    "\n",
    "# Example usage\n",
    "\n",
    "# Function to double a number\n",
    "def double(x):\n",
    "    return x * 2\n",
    "\n",
    "# Function to square a number\n",
    "def square(x):\n",
    "    return x ** 2\n",
    "\n",
    "# List of numbers\n",
    "numbers = [1, 2, 3, 4, 5]\n",
    "\n",
    "# Apply the double function to each element in the list\n",
    "result_double = apply_function_to_list(numbers, double)\n",
    "print(\"After applying double function:\", result_double)\n",
    "\n",
    "# Apply the square function to each element in the list\n",
    "result_square = apply_function_to_list(numbers, square)\n",
    "print(\"After applying square function:\", result_square)\n"
   ]
  },
  {
   "cell_type": "markdown",
   "metadata": {},
   "source": [
    "Function Documentation and Best Practices:\n",
    "1. Explain the purpose of docstrings in Python functions and how to write them.\n",
    "2. Describe some best practices for naming functions and variables in Python, including naming conventions and guidelines."
   ]
  },
  {
   "cell_type": "markdown",
   "metadata": {},
   "source": [
    "In Python, a docstring is a string literal that occurs as the first statement in a module, function, class, or method definition. The primary purpose of docstrings is to provide documentation and serve as a form of inline documentation that explains the purpose, usage, and behavior of the code they describe."
   ]
  },
  {
   "cell_type": "code",
   "execution_count": 85,
   "metadata": {},
   "outputs": [],
   "source": [
    "def calculate_product(x, y):\n",
    "    \"\"\"\n",
    "    Calculate the product of two numbers.\n",
    "\n",
    "    Args:\n",
    "        x (int): The first number.\n",
    "        y (int): The second number.\n",
    "\n",
    "    Returns:\n",
    "        int: The product of x and y.\n",
    "    \"\"\"\n",
    "    return x * y\n"
   ]
  },
  {
   "cell_type": "markdown",
   "metadata": {},
   "source": [
    "Naming functions and variables in Python following established conventions and guidelines is important for code readability, maintainability, and collaboration. While there isn't a single universally accepted convention, the Python community largely follows the PEP 8 style guide for naming conventions"
   ]
  },
  {
   "cell_type": "code",
   "execution_count": null,
   "metadata": {},
   "outputs": [],
   "source": [
    "Function Names:\n",
    "\n",
    "Use lowercase letters and underscores to separate words (snake_case).\n",
    "Choose descriptive and concise names that indicate the purpose of the function.\n",
    "Avoid using single-letter names unless the function is very short and the purpose is clear.\n",
    "def calculate_sum(a, b):\n",
    "    pass\n",
    "\n",
    "def get_user_name(user_id):\n",
    "    pass\n",
    "Verb-Noun Pairing:\n",
    "\n",
    "Consider using verb-noun pairing for function names to indicate actions.\n",
    "Variable Names:\n",
    "\n",
    "Use lowercase letters and underscores to separate words (snake_case).\n",
    "Choose meaningful and descriptive names that convey the purpose of the variable.\n",
    "Avoid using single-letter names except for loop counters (i, j, k).\n",
    "\n",
    "user_name = \"John Doe\"\n",
    "total_items = 100\n",
    "Constants:\n",
    "\n",
    "Use uppercase letters and underscores to separate words (UPPER_CASE_SNAKE_CASE) for constants.\n",
    "Constants are typically defined at the module level.\n",
    "\n",
    "MAX_RETRIES = 5\n",
    "PI = 3.14159"
   ]
  }
 ],
 "metadata": {
  "kernelspec": {
   "display_name": "Python 3",
   "language": "python",
   "name": "python3"
  },
  "language_info": {
   "codemirror_mode": {
    "name": "ipython",
    "version": 3
   },
   "file_extension": ".py",
   "mimetype": "text/x-python",
   "name": "python",
   "nbconvert_exporter": "python",
   "pygments_lexer": "ipython3",
   "version": "3.7.3"
  }
 },
 "nbformat": 4,
 "nbformat_minor": 5
}
